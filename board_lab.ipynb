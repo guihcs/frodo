{
 "cells": [
  {
   "cell_type": "code",
   "execution_count": 7,
   "id": "initial_id",
   "metadata": {
    "collapsed": true,
    "ExecuteTime": {
     "end_time": "2023-10-21T10:56:14.878102312Z",
     "start_time": "2023-10-21T10:56:14.836747979Z"
    }
   },
   "source": [
    "from board import Board\n"
   ],
   "outputs": []
  },
  {
   "cell_type": "code",
   "execution_count": 15,
   "source": [
    "\n",
    "\n",
    "\n",
    "\n",
    "\n",
    "\n",
    "    \n",
    "\n",
    "board = Board()\n",
    "board.board = [[0, 1, 0],\n",
    "               [0, 1, 0],\n",
    "               [2, 1, 3]]\n",
    "\n",
    "print(board)\n",
    "\n",
    "print(path)"
   ],
   "metadata": {
    "collapsed": false,
    "ExecuteTime": {
     "end_time": "2023-10-21T11:04:26.926149328Z",
     "start_time": "2023-10-21T11:04:26.879803046Z"
    }
   },
   "id": "de7911e43fca3d79",
   "outputs": []
  },
  {
   "cell_type": "code",
   "execution_count": null,
   "source": [],
   "metadata": {
    "collapsed": false
   },
   "id": "213b8aec777e88ab",
   "outputs": []
  }
 ],
 "metadata": {
  "kernelspec": {
   "display_name": "Python 3",
   "language": "python",
   "name": "python3"
  },
  "language_info": {
   "codemirror_mode": {
    "name": "ipython",
    "version": 2
   },
   "file_extension": ".py",
   "mimetype": "text/x-python",
   "name": "python",
   "nbconvert_exporter": "python",
   "pygments_lexer": "ipython2",
   "version": "2.7.6"
  }
 },
 "nbformat": 4,
 "nbformat_minor": 5
}
