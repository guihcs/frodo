{
 "cells": [
  {
   "cell_type": "code",
   "execution_count": 1,
   "outputs": [],
   "source": [
    "import math\n",
    "import random\n",
    "import matplotlib.pyplot as plt\n",
    "from tqdm.auto import tqdm\n",
    "\n",
    "\n",
    "import torch\n",
    "import torch.nn as nn\n",
    "import torch.optim as optim\n",
    "from torch.utils.data import TensorDataset, DataLoader\n",
    "from board import Board\n",
    "from agent import Agent\n",
    "# set white background\n",
    "plt.rcParams['figure.facecolor'] = 'white'"
   ],
   "metadata": {
    "collapsed": false,
    "ExecuteTime": {
     "end_time": "2023-08-25T16:25:11.665868824Z",
     "start_time": "2023-08-25T16:25:10.557037869Z"
    }
   }
  },
  {
   "cell_type": "code",
   "execution_count": 2,
   "outputs": [
    {
     "name": "stdout",
     "output_type": "stream",
     "text": [
      "\u001B[33m%\u001B[0m \u001B[31mE\u001B[0m \u001B[33m%\u001B[0m \n",
      "\u001B[33m%\u001B[0m \u001B[97m.\u001B[0m \u001B[33m%\u001B[0m \n",
      "\u001B[97m.\u001B[0m \u001B[97m.\u001B[0m \u001B[32mP\u001B[0m \n"
     ]
    }
   ],
   "source": [
    "board = Board()\n",
    "\n",
    "print(board)\n"
   ],
   "metadata": {
    "collapsed": false,
    "ExecuteTime": {
     "end_time": "2023-08-25T16:25:11.676112698Z",
     "start_time": "2023-08-25T16:25:11.667234344Z"
    }
   }
  },
  {
   "cell_type": "code",
   "execution_count": 3,
   "outputs": [],
   "source": [
    "\n",
    "\n",
    "def get_best_action(board, agent):\n",
    "    pp = board.get_position(2)\n",
    "    tp = board.get_position(3)\n",
    "    \n",
    "    best_action = None\n",
    "    best_value = -math.inf\n",
    "    \n",
    "    for a in range(board.get_total_actions()):\n",
    "        board_copy = board.copy()\n",
    "        board_copy.do_action(pp, tp, a)\n",
    "        \n",
    "        with torch.no_grad():\n",
    "            agent.eval()\n",
    "            value = agent(board_copy.to_tensor()).item()\n",
    "        \n",
    "        if value > best_value:\n",
    "            best_value = value\n",
    "            best_action = a\n",
    "            \n",
    "    return best_action\n",
    "\n",
    "\n",
    "\n",
    "\n",
    "def evaluate(policy):\n",
    "    \n",
    "    v = 0\n",
    "    for _ in range(10):\n",
    "        board = Board()\n",
    "        pp = board.get_position(2)\n",
    "        tp = board.get_position(3)\n",
    "        \n",
    "        for _ in range(10):\n",
    "            a = get_best_action(board, policy)\n",
    "            board.do_action(pp, tp, a)\n",
    "            pp = board.get_position(2)\n",
    "            tp = board.get_position(3)\n",
    "            \n",
    "            if board.is_win():\n",
    "                v += 1\n",
    "                break\n",
    "        \n",
    "    return v / 10\n",
    "\n",
    "\n"
   ],
   "metadata": {
    "collapsed": false,
    "ExecuteTime": {
     "end_time": "2023-08-25T16:25:11.677580489Z",
     "start_time": "2023-08-25T16:25:11.673118059Z"
    }
   }
  },
  {
   "cell_type": "code",
   "execution_count": 4,
   "outputs": [
    {
     "data": {
      "text/plain": "  0%|          | 0/2000 [00:00<?, ?it/s]",
      "application/vnd.jupyter.widget-view+json": {
       "version_major": 2,
       "version_minor": 0,
       "model_id": "6a8b5ad7476142b0af3ec12e22b229d6"
      }
     },
     "metadata": {},
     "output_type": "display_data"
    },
    {
     "data": {
      "text/plain": "<Figure size 640x480 with 1 Axes>",
      "image/png": "[encoded data removed]"
     },
     "metadata": {},
     "output_type": "display_data"
    }
   ],
   "source": [
    "\n",
    "lh = []\n",
    "agent = Agent()\n",
    "optimizer = optim.Adam(agent.parameters(), lr=0.001)\n",
    "crit = nn.MSELoss()\n",
    "\n",
    "boards_memory = []\n",
    "rewards_memory = []\n",
    "for e in tqdm(range(2000)):\n",
    "    \n",
    "    if e % 10 == 0:\n",
    "        lh.append(evaluate(agent))\n",
    "    \n",
    "    board = Board()\n",
    "    \n",
    "    pp = board.get_position(2)\n",
    "    tp = board.get_position(3)\n",
    "    \n",
    "    rewards = []\n",
    "    \n",
    "    for _ in range(10):\n",
    "        if random.random() < 1 / (e + 1) + 0.1:\n",
    "            a = random.randint(0, board.get_total_actions()-1)\n",
    "        else:\n",
    "            a = get_best_action(board, agent)\n",
    "        \n",
    "        pp = board.get_position(2)\n",
    "        tp = board.get_position(3)\n",
    "        \n",
    "        board.do_action(pp, tp, a)\n",
    "        \n",
    "        if board.is_win():\n",
    "            rewards.append((board.copy(), 15))\n",
    "            break\n",
    "        \n",
    "        elif board.board[1][1] == 4 and board.board[0][1] != 3:\n",
    "            rewards.append((board.copy(), -10))        \n",
    "        else:\n",
    "            rewards.append((board.copy(), -1))\n",
    "            \n",
    "            \n",
    "    acc_reward = 0\n",
    "    agent.train()\n",
    "    for b, r in reversed(rewards):\n",
    "        acc_reward += r\n",
    "        boards_memory.append(b.to_tensor().unsqueeze(0))\n",
    "        rewards_memory.append(torch.Tensor([acc_reward]).unsqueeze(0))\n",
    "\n",
    "    if len(boards_memory) > 200:\n",
    "        boards_memory = boards_memory[len(boards_memory) - 200:]\n",
    "        rewards_memory = rewards_memory[len(rewards_memory) - 200:]\n",
    "        \n",
    "    for b, r in DataLoader(TensorDataset(torch.cat(boards_memory), torch.cat(rewards_memory)), batch_size=32, shuffle=True):\n",
    "        optimizer.zero_grad()\n",
    "        pred = agent(b)\n",
    "        loss = crit(pred, r)\n",
    "        loss.backward()\n",
    "        optimizer.step()\n",
    "\n",
    "plt.plot(lh)\n",
    "plt.show()"
   ],
   "metadata": {
    "collapsed": false,
    "ExecuteTime": {
     "end_time": "2023-08-25T16:26:28.863885357Z",
     "start_time": "2023-08-25T16:25:11.681895553Z"
    }
   }
  },
  {
   "cell_type": "code",
   "execution_count": 6,
   "outputs": [
    {
     "name": "stdout",
     "output_type": "stream",
     "text": [
      "\u001B[33m%\u001B[0m \u001B[97m.\u001B[0m \u001B[33m%\u001B[0m \n",
      "\u001B[33m%\u001B[0m \u001B[32mP\u001B[0m \u001B[33m%\u001B[0m \n",
      "\u001B[97m.\u001B[0m \u001B[31mE\u001B[0m \u001B[97m.\u001B[0m \n",
      "\n",
      "         \n",
      "0\n",
      "\u001B[33m%\u001B[0m \u001B[97m.\u001B[0m \u001B[33m%\u001B[0m \n",
      "\u001B[33m%\u001B[0m \u001B[97m.\u001B[0m \u001B[33m%\u001B[0m \n",
      "\u001B[97m.\u001B[0m \u001B[31mE\u001B[0m \u001B[32mP\u001B[0m \n",
      "\n",
      "----------\n",
      "1\n",
      "\u001B[33m%\u001B[0m \u001B[97m.\u001B[0m \u001B[33m%\u001B[0m \n",
      "\u001B[33m%\u001B[0m \u001B[31mE\u001B[0m \u001B[33m%\u001B[0m \n",
      "\u001B[97m.\u001B[0m \u001B[97m.\u001B[0m \u001B[32mP\u001B[0m \n",
      "\n",
      "----------\n",
      "2\n",
      "\u001B[33m%\u001B[0m \u001B[31mE\u001B[0m \u001B[33m%\u001B[0m \n",
      "\u001B[33m%\u001B[0m \u001B[97m.\u001B[0m \u001B[33m%\u001B[0m \n",
      "\u001B[97m.\u001B[0m \u001B[97m.\u001B[0m \u001B[32mP\u001B[0m \n",
      "\n",
      "----------\n",
      "3\n",
      "\u001B[33m%\u001B[0m \u001B[31mE\u001B[0m \u001B[33m%\u001B[0m \n",
      "\u001B[33m%\u001B[0m \u001B[34m#\u001B[0m \u001B[33m%\u001B[0m \n",
      "\u001B[97m.\u001B[0m \u001B[97m.\u001B[0m \u001B[32mP\u001B[0m \n",
      "\n",
      "----------\n"
     ]
    }
   ],
   "source": [
    "board = Board()\n",
    "print(board)\n",
    "print('         ')\n",
    "for i in range(10):\n",
    "    print(i)\n",
    "    a = get_best_action(board, agent)\n",
    "    pp = board.get_position(2)\n",
    "    tp = board.get_position(3)\n",
    "    board.do_action(pp, tp, a)\n",
    "    print(board)\n",
    "    print('-' * 10)\n",
    "    \n",
    "    if board.is_win():\n",
    "        break\n",
    "        "
   ],
   "metadata": {
    "collapsed": false,
    "ExecuteTime": {
     "end_time": "2023-08-25T16:26:45.425488670Z",
     "start_time": "2023-08-25T16:26:45.404116885Z"
    }
   }
  },
  {
   "cell_type": "code",
   "execution_count": 24,
   "outputs": [],
   "source": [
    "torch.save(agent.state_dict(), 'agent.pt')"
   ],
   "metadata": {
    "collapsed": false,
    "ExecuteTime": {
     "end_time": "2023-08-24T17:02:22.350940757Z",
     "start_time": "2023-08-24T17:02:22.305199691Z"
    }
   }
  },
  {
   "cell_type": "code",
   "execution_count": null,
   "outputs": [],
   "source": [],
   "metadata": {
    "collapsed": false
   }
  }
 ],
 "metadata": {
  "kernelspec": {
   "display_name": "Python 3",
   "language": "python",
   "name": "python3"
  },
  "language_info": {
   "codemirror_mode": {
    "name": "ipython",
    "version": 2
   },
   "file_extension": ".py",
   "mimetype": "text/x-python",
   "name": "python",
   "nbconvert_exporter": "python",
   "pygments_lexer": "ipython2",
   "version": "2.7.6"
  }
 },
 "nbformat": 4,
 "nbformat_minor": 0
}
