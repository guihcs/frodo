{
 "cells": [
  {
   "cell_type": "code",
   "id": "initial_id",
   "metadata": {
    "collapsed": true,
    "ExecuteTime": {
     "end_time": "2024-05-10T09:49:10.557072Z",
     "start_time": "2024-05-10T09:49:10.550038Z"
    }
   },
   "source": [
    "import math"
   ],
   "outputs": [],
   "execution_count": 1
  },
  {
   "cell_type": "code",
   "source": [
    "board = [[1, 0, 1, 0],\n",
    "          [1, 0, 1, 0],\n",
    "          [1, 1, 4, 1],\n",
    "         [1, 1, 1, 1]]"
   ],
   "metadata": {
    "collapsed": false,
    "ExecuteTime": {
     "end_time": "2024-05-10T10:04:11.707532Z",
     "start_time": "2024-05-10T10:04:11.702801Z"
    }
   },
   "id": "8e8d2c0853eeaed0",
   "outputs": [],
   "execution_count": 27
  },
  {
   "cell_type": "code",
   "source": [
    "pp = (3, 0)\n",
    "np = (2, 3)\n",
    "\n",
    "dx = np[1] - pp[1]\n",
    "dy = np[0] - pp[0]\n",
    "\n",
    "\n",
    "def tr(v):\n",
    "    f, w = math.modf(v)\n",
    "    if f >= 0.5:\n",
    "        return math.ceil(v)\n",
    "    else:\n",
    "        return math.floor(v)\n",
    "\n",
    "if abs(dx) > abs(dy):\n",
    "    if pp[1] > np[1]:\n",
    "        pp, np = np, pp \n",
    "    \n",
    "    \n",
    "    a = (np[0] - pp[0]) / (np[1] - pp[1])\n",
    "    y = pp[0]\n",
    "    for x in range(pp[1], np[1] + 1):\n",
    "        if board[tr(y)][x] == 4:\n",
    "            print('have wall')\n",
    "        y += a\n",
    "\n",
    "else:\n",
    "    if pp[0] > np[0]:\n",
    "        pp, np = np, pp\n",
    "        \n",
    "    a = (np[1] - pp[1]) / (np[0] - pp[0])\n",
    "    x = pp[1]\n",
    "    \n",
    "    for y in range(pp[0], np[0] + 1):\n",
    "        if board[y][tr(x)] == 4:\n",
    "            print('have wall')\n",
    "        x += a\n",
    "\n",
    "\n"
   ],
   "metadata": {
    "collapsed": false,
    "ExecuteTime": {
     "end_time": "2024-05-10T10:04:11.934374Z",
     "start_time": "2024-05-10T10:04:11.924442Z"
    }
   },
   "id": "dc04954cc646d702",
   "outputs": [
    {
     "name": "stdout",
     "output_type": "stream",
     "text": [
      "have wall\n"
     ]
    }
   ],
   "execution_count": 28
  },
  {
   "cell_type": "code",
   "outputs": [
    {
     "name": "stdout",
     "output_type": "stream",
     "text": [
      "1\n",
      "4\n"
     ]
    }
   ],
   "source": [],
   "metadata": {
    "collapsed": false,
    "ExecuteTime": {
     "end_time": "2024-02-11T12:42:23.916802948Z",
     "start_time": "2024-02-11T12:42:23.906194144Z"
    }
   },
   "id": "c367bcf37857b90b",
   "execution_count": 5
  },
  {
   "cell_type": "code",
   "outputs": [],
   "source": [],
   "metadata": {
    "collapsed": false
   },
   "id": "2411be899462e226",
   "execution_count": null
  }
 ],
 "metadata": {
  "kernelspec": {
   "display_name": "Python 3",
   "language": "python",
   "name": "python3"
  },
  "language_info": {
   "codemirror_mode": {
    "name": "ipython",
    "version": 2
   },
   "file_extension": ".py",
   "mimetype": "text/x-python",
   "name": "python",
   "nbconvert_exporter": "python",
   "pygments_lexer": "ipython2",
   "version": "2.7.6"
  }
 },
 "nbformat": 4,
 "nbformat_minor": 5
}
