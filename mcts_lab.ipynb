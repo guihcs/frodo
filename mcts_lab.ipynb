{
 "cells": [
  {
   "cell_type": "code",
   "id": "initial_id",
   "metadata": {
    "collapsed": true,
    "ExecuteTime": {
     "end_time": "2025-02-01T18:36:24.496908Z",
     "start_time": "2025-02-01T18:36:24.494503Z"
    }
   },
   "source": [
    "import math\n",
    "import copy\n",
    "import random\n",
    "from termcolor import colored"
   ],
   "outputs": [],
   "execution_count": 42
  },
  {
   "metadata": {
    "ExecuteTime": {
     "end_time": "2025-02-01T18:36:26.196140Z",
     "start_time": "2025-02-01T18:36:26.193894Z"
    }
   },
   "cell_type": "code",
   "source": "b = [0, 0, 0, 0]",
   "id": "534b37a5534b86f4",
   "outputs": [],
   "execution_count": 43
  },
  {
   "metadata": {
    "ExecuteTime": {
     "end_time": "2025-02-01T18:41:49.554610Z",
     "start_time": "2025-02-01T18:41:49.463493Z"
    }
   },
   "cell_type": "code",
   "source": [
    "\n",
    "\n",
    "    def __repr__(self):\n",
    "        w = self.get_winner()\n",
    "        if w == 1:\n",
    "            nd = colored(\"Node\", \"green\")\n",
    "        elif w == -1:\n",
    "            nd = colored(\"Node\", \"red\")\n",
    "        elif w == 0:\n",
    "            nd = colored(\"Node\", \"yellow\")\n",
    "        else:\n",
    "            nd = \"Node\"\n",
    "\n",
    "        return f\"{nd}({self.board}) {self.v / self.n:.2f}\"\n",
    "\n",
    "root = Node(b, -1)\n",
    "for i in range(10000):\n",
    "    root.search()"
   ],
   "id": "51c7193ed545757a",
   "outputs": [],
   "execution_count": 55
  },
  {
   "metadata": {
    "ExecuteTime": {
     "end_time": "2025-02-01T18:41:49.740889Z",
     "start_time": "2025-02-01T18:41:49.737056Z"
    }
   },
   "cell_type": "code",
   "source": [
    "def pc(node, l=0):\n",
    "    print('\\t' * l * 2, node)\n",
    "    for c in node.children:\n",
    "        pc(c, l + 1)\n",
    "\n",
    "\n",
    "pc(root)"
   ],
   "id": "5f16c6f5fb515fa8",
   "outputs": [
    {
     "name": "stdout",
     "output_type": "stream",
     "text": [
      " Node([0, 0, 0, 0]) 0.99\n",
      "\t\t Node([1, 0, 0, 0]) 0.13\n",
      "\t\t\t\t Node([1, -1, 0, 0]) -0.14\n",
      "\t\t\t\t\t\t Node([1, -1, 1, 0]) 0.00\n",
      "\t\t\t\t\t\t\t\t \u001B[33mNode\u001B[0m([1, -1, 1, -1]) 0.00\n",
      "\t\t\t\t\t\t Node([1, -1, 0, 1]) -1.00\n",
      "\t\t\t\t\t\t\t\t \u001B[31mNode\u001B[0m([1, -1, -1, 1]) -1.00\n",
      "\t\t\t\t Node([1, 0, -1, 0]) 0.83\n",
      "\t\t\t\t\t\t \u001B[32mNode\u001B[0m([1, 1, -1, 0]) 1.00\n",
      "\t\t\t\t\t\t Node([1, 0, -1, 1]) 1.00\n",
      "\t\t\t\t Node([1, 0, 0, -1]) 0.83\n",
      "\t\t\t\t\t\t \u001B[32mNode\u001B[0m([1, 1, 0, -1]) 1.00\n",
      "\t\t\t\t\t\t Node([1, 0, 1, -1]) 1.00\n",
      "\t\t Node([0, 1, 0, 0]) 1.00\n",
      "\t\t\t\t Node([-1, 1, 0, 0]) 1.00\n",
      "\t\t\t\t\t\t \u001B[32mNode\u001B[0m([-1, 1, 1, 0]) 1.00\n",
      "\t\t\t\t\t\t Node([-1, 1, 0, 1]) 1.00\n",
      "\t\t\t\t Node([0, 1, -1, 0]) 1.00\n",
      "\t\t\t\t\t\t \u001B[32mNode\u001B[0m([1, 1, -1, 0]) 1.00\n",
      "\t\t\t\t\t\t Node([0, 1, -1, 1]) 1.00\n",
      "\t\t\t\t Node([0, 1, 0, -1]) 1.00\n",
      "\t\t\t\t\t\t \u001B[32mNode\u001B[0m([1, 1, 0, -1]) 1.00\n",
      "\t\t\t\t\t\t \u001B[32mNode\u001B[0m([0, 1, 1, -1]) 1.00\n",
      "\t\t Node([0, 0, 1, 0]) 1.00\n",
      "\t\t\t\t Node([-1, 0, 1, 0]) 1.00\n",
      "\t\t\t\t\t\t \u001B[32mNode\u001B[0m([-1, 1, 1, 0]) 1.00\n",
      "\t\t\t\t\t\t \u001B[32mNode\u001B[0m([-1, 0, 1, 1]) 1.00\n",
      "\t\t\t\t Node([0, -1, 1, 0]) 1.00\n",
      "\t\t\t\t\t\t Node([1, -1, 1, 0]) 0.00\n",
      "\t\t\t\t\t\t\t\t \u001B[33mNode\u001B[0m([1, -1, 1, -1]) 0.00\n",
      "\t\t\t\t\t\t \u001B[32mNode\u001B[0m([0, -1, 1, 1]) 1.00\n",
      "\t\t\t\t Node([0, 0, 1, -1]) 1.00\n",
      "\t\t\t\t\t\t Node([1, 0, 1, -1]) 0.00\n",
      "\t\t\t\t\t\t\t\t \u001B[33mNode\u001B[0m([1, -1, 1, -1]) 0.00\n",
      "\t\t\t\t\t\t \u001B[32mNode\u001B[0m([0, 1, 1, -1]) 1.00\n",
      "\t\t Node([0, 0, 0, 1]) 0.12\n",
      "\t\t\t\t Node([-1, 0, 0, 1]) 0.71\n",
      "\t\t\t\t\t\t Node([-1, 1, 0, 1]) 0.00\n",
      "\t\t\t\t\t\t\t\t \u001B[33mNode\u001B[0m([-1, 1, -1, 1]) 0.00\n",
      "\t\t\t\t\t\t \u001B[32mNode\u001B[0m([-1, 0, 1, 1]) 1.00\n",
      "\t\t\t\t Node([0, -1, 0, 1]) 0.57\n",
      "\t\t\t\t\t\t Node([1, -1, 0, 1]) -1.00\n",
      "\t\t\t\t\t\t\t\t \u001B[31mNode\u001B[0m([1, -1, -1, 1]) -1.00\n",
      "\t\t\t\t\t\t \u001B[32mNode\u001B[0m([0, -1, 1, 1]) 1.00\n",
      "\t\t\t\t Node([0, 0, -1, 1]) -0.12\n",
      "\t\t\t\t\t\t Node([1, 0, -1, 1]) -1.00\n",
      "\t\t\t\t\t\t\t\t \u001B[31mNode\u001B[0m([1, -1, -1, 1]) -1.00\n",
      "\t\t\t\t\t\t Node([0, 1, -1, 1]) 0.00\n",
      "\t\t\t\t\t\t\t\t \u001B[33mNode\u001B[0m([-1, 1, -1, 1]) 0.00\n"
     ]
    }
   ],
   "execution_count": 56
  },
  {
   "metadata": {
    "ExecuteTime": {
     "end_time": "2025-02-01T18:39:20.736670Z",
     "start_time": "2025-02-01T18:39:20.733896Z"
    }
   },
   "cell_type": "code",
   "source": "root.children[0].children[1].children[1].children",
   "id": "5dcde7f1dad5b962",
   "outputs": [
    {
     "data": {
      "text/plain": [
       "[]"
      ]
     },
     "execution_count": 50,
     "metadata": {},
     "output_type": "execute_result"
    }
   ],
   "execution_count": 50
  },
  {
   "metadata": {},
   "cell_type": "code",
   "outputs": [],
   "execution_count": null,
   "source": "",
   "id": "8c7bf05f7136cc8"
  }
 ],
 "metadata": {
  "kernelspec": {
   "display_name": "Python 3",
   "language": "python",
   "name": "python3"
  },
  "language_info": {
   "codemirror_mode": {
    "name": "ipython",
    "version": 2
   },
   "file_extension": ".py",
   "mimetype": "text/x-python",
   "name": "python",
   "nbconvert_exporter": "python",
   "pygments_lexer": "ipython2",
   "version": "2.7.6"
  }
 },
 "nbformat": 4,
 "nbformat_minor": 5
}
