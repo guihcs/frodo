{
 "cells": [
  {
   "metadata": {
    "ExecuteTime": {
     "end_time": "2025-02-06T21:23:00.781272Z",
     "start_time": "2025-02-06T21:22:59.326684Z"
    }
   },
   "cell_type": "code",
   "source": [
    "import math\n",
    "\n",
    "from board3 import Board3, sqr_distance\n",
    "from controller3 import ActionController\n",
    "from heapq import heappush, heappop"
   ],
   "id": "9d09b3eec609fba7",
   "outputs": [],
   "execution_count": 1
  },
  {
   "metadata": {
    "ExecuteTime": {
     "end_time": "2025-02-06T21:23:01.816453Z",
     "start_time": "2025-02-06T21:23:01.806686Z"
    }
   },
   "cell_type": "code",
   "source": [
    "def eval_board(board: Board3):\n",
    "    py, px = board.player_position\n",
    "    ey, ex = board.enemy_position\n",
    "    player_distance = min(sqr_distance(py, px, 0, 0), sqr_distance(py, px, 0, 2))\n",
    "    enemy_distance = min(sqr_distance(ey, ex, 0, 0), sqr_distance(ey, ex, 0, 2))\n",
    "\n",
    "    short_distance = 0\n",
    "    spm = 0\n",
    "    if len(board.player_short_push) > 0 and board.player_short_push[1] == 'E':\n",
    "        spm = 2 / (1.1 - board.player_short_push[2] / 1000)\n",
    "\n",
    "        if sqr_distance(ey, ex, 0, 0) < sqr_distance(ey, ex, 0, 2):\n",
    "            short_distance = math.sqrt(sqr_distance(board.player_short_push[0][0], board.player_short_push[0][1], 0, 0))\n",
    "        else:\n",
    "            short_distance = math.sqrt(sqr_distance(board.player_short_push[0][0], board.player_short_push[0][1], 0, 2))\n",
    "\n",
    "    long_distance = 0\n",
    "    lpm = 0\n",
    "    if len(board.player_long_push) > 0 and board.player_long_push[1] == 'E':\n",
    "        lpm = 2 / (1.1 - board.player_long_push[2] / 1600)\n",
    "\n",
    "        if sqr_distance(ey, ex, 0, 0) < sqr_distance(ey, ex, 0, 2):\n",
    "            long_distance = math.sqrt(sqr_distance(board.player_long_push[0][0], board.player_long_push[0][1], 0, 0))\n",
    "        else:\n",
    "            long_distance = math.sqrt(sqr_distance(board.player_long_push[0][0], board.player_long_push[0][1], 0, 2))\n",
    "\n",
    "    block = 0\n",
    "    if board.enemy_position != (0, 0) and (1, 0) in board.mw or board.enemy_position != (0, 2) and (1, 2) in board.mw:\n",
    "        block = 10\n",
    "\n",
    "    win = 0\n",
    "    if board.enemy_position == (0, 0) and (1, 0) in board.mw or board.enemy_position == (0, 2) and (1, 2) in board.mw:\n",
    "        win = 10\n",
    "\n",
    "    lose = 0\n",
    "    if board.player_position == (0, 0) and (1, 0) in board.mw or board.player_position == (0, 2) and (1, 2) in board.mw:\n",
    "        lose = 10\n",
    "\n",
    "    enemy_spaces = len(board.get_pos_available_moves(ey, ex))\n",
    "    player_spaces = len(board.get_pos_available_moves(py, px))\n",
    "\n",
    "    if sqr_distance(ey, ex, 0, 0) < sqr_distance(ey, ex, 0, 2):\n",
    "        sp = board.shortest_path(ey, ex, 0, 0)\n",
    "    else:\n",
    "        sp = board.shortest_path(ey, ex, 0, 2)\n",
    "\n",
    "    spp = 0\n",
    "    if len(sp) > 0:\n",
    "        spp = 5\n",
    "    else:\n",
    "        spm /= 4\n",
    "        lpm /= 4\n",
    "\n",
    "\n",
    "    return (10 / (enemy_distance + 1)) - (10 / (math.sqrt(player_distance) + 1)) - (len(board.mw)) - block + (spm / (short_distance + 1)) + (lpm / (long_distance + 1)) + 7 / (enemy_spaces + 1) + spp + win - lose - 5 / (player_spaces + 1)\n",
    "\n",
    "\n",
    "\n",
    "class NT:\n",
    "\n",
    "    def __init__(self, board, player):\n",
    "        self.board = board\n",
    "        self.controller = ActionController(board)\n",
    "        self.children = None\n",
    "        self.player = player\n",
    "        self.a = None\n",
    "        self.p = 0\n",
    "        self.v = 0\n",
    "        self.n = 0\n",
    "        pass\n",
    "\n",
    "\n",
    "    def get_winner(self):\n",
    "        if self.controller.is_win():\n",
    "            return 1\n",
    "        if self.controller.is_lose():\n",
    "            return -1\n",
    "        if self.controller.is_block():\n",
    "            return -1\n",
    "\n",
    "        return None\n",
    "\n",
    "    def search(self):\n",
    "\n",
    "        winner = self.get_winner()\n",
    "        if winner is not None:\n",
    "            self.n += 1\n",
    "            self.v = -winner\n",
    "            return self.v\n",
    "\n",
    "\n",
    "        if self.children is None:\n",
    "            self.expand()\n",
    "\n",
    "            return -self.v\n",
    "\n",
    "        cs = sum([x.n for x in self.children])\n",
    "        sv = max(self.children, key=lambda x: x.value + 1.5 * x.prob * math.sqrt(cs / (x.n + 1)))\n",
    "        res = sv.search()\n",
    "        self.v = (self.v * self.n + res) / (self.n + 1)\n",
    "        self.n += 1\n",
    "\n",
    "        return -res\n",
    "\n",
    "    def expand(self):\n",
    "        self.children = []\n",
    "        vs = []\n",
    "        for p in self.controller.get_available_moves():\n",
    "            board_copy = self.board.copy()\n",
    "            nt = NT(board_copy, -self.player)\n",
    "            nt.controller.execute_action(p)\n",
    "            board_copy.step(500, walk_time=200)\n",
    "            nt.a = p\n",
    "            nt.v = 0\n",
    "            nt.p = eval_board(board_copy)\n",
    "            nt.n = 1\n",
    "            vs.append(nt.p)\n",
    "            board_copy.swap_enemy()\n",
    "            self.children.append(nt)\n",
    "\n",
    "        self.v = sum(vs) / len(vs)\n",
    "        self.n = len(vs)"
   ],
   "id": "10e479c28150a8d9",
   "outputs": [],
   "execution_count": 2
  },
  {
   "metadata": {
    "ExecuteTime": {
     "end_time": "2025-02-06T21:23:53.593384Z",
     "start_time": "2025-02-06T21:23:53.589871Z"
    }
   },
   "cell_type": "code",
   "source": [
    "board = Board3()\n",
    "\n",
    "board.set_enemy(3, 3)\n",
    "board.set_player(2, 2)\n",
    "board.set_todd(2, 1)\n",
    "print(board)\n",
    "controller = ActionController(board)"
   ],
   "id": "de0baba03ad501be",
   "outputs": [
    {
     "name": "stdout",
     "output_type": "stream",
     "text": [
      "\u001B[97m.\u001B[0m  \u001B[33m%\u001B[0m  \u001B[97m.\u001B[0m  \u001B[33m%\u001B[0m\n",
      "\u001B[97m.\u001B[0m  \u001B[33m%\u001B[0m  \u001B[97m.\u001B[0m  \u001B[33m%\u001B[0m\n",
      "\u001B[97m.\u001B[0m  \u001B[97mT\u001B[0m  \u001B[32mP\u001B[0m  \u001B[97m.\u001B[0m\n",
      "\u001B[97m.\u001B[0m  \u001B[97m.\u001B[0m  \u001B[97m.\u001B[0m  \u001B[31mE\u001B[0m\n"
     ]
    }
   ],
   "execution_count": 3
  },
  {
   "metadata": {
    "ExecuteTime": {
     "end_time": "2025-02-06T21:26:18.340091Z",
     "start_time": "2025-02-06T21:26:02.388271Z"
    }
   },
   "cell_type": "code",
   "source": [
    "\n",
    "\n",
    "\n",
    "print(board)\n",
    "nt = NT(board, 1)\n",
    "for _ in range(10000):\n",
    "    nt.search()"
   ],
   "id": "7331b1ee29c48cd4",
   "outputs": [
    {
     "name": "stdout",
     "output_type": "stream",
     "text": [
      "\u001B[97m.\u001B[0m  \u001B[33m%\u001B[0m  \u001B[97m.\u001B[0m  \u001B[33m%\u001B[0m\n",
      "\u001B[97m.\u001B[0m  \u001B[33m%\u001B[0m  \u001B[97m.\u001B[0m  \u001B[33m%\u001B[0m\n",
      "\u001B[97m.\u001B[0m  \u001B[97mT\u001B[0m  \u001B[32mP\u001B[0m  \u001B[97m.\u001B[0m\n",
      "\u001B[97m.\u001B[0m  \u001B[97m.\u001B[0m  \u001B[97m.\u001B[0m  \u001B[31mE\u001B[0m\n"
     ]
    }
   ],
   "execution_count": 9
  },
  {
   "metadata": {
    "ExecuteTime": {
     "end_time": "2025-02-06T21:26:39.087357Z",
     "start_time": "2025-02-06T21:26:39.074476Z"
    }
   },
   "cell_type": "code",
   "source": [
    "print([x.n for x in nt.children])\n",
    "print([round(x.value, 2) for x in nt.children])\n",
    "print([round(x.prob, 2) for x in nt.children])\n",
    "print([round(x.action, 2) for x in nt.children])\n",
    "\n",
    "ma = max(nt.children, key=lambda x: x.n)\n",
    "print(ma.n)\n",
    "print(ma.value)\n",
    "print(ma.controller.explain_action(ma.action))"
   ],
   "id": "f3f4f3af0241786f",
   "outputs": [
    {
     "name": "stdout",
     "output_type": "stream",
     "text": [
      "[329, 1, 330, 409, 372, 509, 934, 494, 609, 466, 494, 509, 476, 442, 455, 469, 453, 250, 329, 329, 329, 331, 324, 329, 1, 1, 175, 1, 175, 148, 278]\n",
      "[2.0, 0, 2.07, 0.95, 1.16, 1.97, 1.04, 1.96, 1.84, 1.95, 1.96, 1.97, 1.32, 1.97, 2.0, 2.28, 1.89, -2.97, 2.0, 2.0, 2.0, 2.08, 1.7, 2.0, 0, 0, 1.32, 0, 1.32, 1.53, -0.19]\n",
      "[3.91, -3.59, 3.9, 4.49, 4.26, 4.86, 6.77, 4.79, 5.34, 4.66, 4.79, 4.86, 4.79, 4.53, 4.6, 4.62, 4.6, 3.91, 3.91, 3.91, 3.91, 3.91, 3.91, 3.91, -7.09, -12.34, 2.91, -1.17, 2.91, 2.66, 3.83]\n",
      "[0, 2, 4, 6, 7, 9, 10, 11, 12, 13, 14, 15, 16, 17, 18, 19, 20, 21, 22, 23, 24, 25, 26, 27, 28, 29, 30, 33, 34, 35, 36]\n",
      "934\n",
      "1.0401476819765225\n",
      "Push E 0 2\n"
     ]
    }
   ],
   "execution_count": 10
  },
  {
   "metadata": {
    "ExecuteTime": {
     "end_time": "2025-02-06T11:23:37.734779Z",
     "start_time": "2025-02-06T11:23:37.731430Z"
    }
   },
   "cell_type": "code",
   "source": [
    "bc = board\n",
    "ActionController(bc).execute_action(ma.action)\n",
    "bc.step(500, walk_time=200)\n",
    "print(bc)\n"
   ],
   "id": "f079624f628f1ab8",
   "outputs": [
    {
     "name": "stdout",
     "output_type": "stream",
     "text": [
      "\u001B[35mU\u001B[0m  \u001B[33m%\u001B[0m  \u001B[97m.\u001B[0m  \u001B[33m%\u001B[0m\n",
      "\u001B[31mE\u001B[0m  \u001B[33m%\u001B[0m  \u001B[97m.\u001B[0m  \u001B[33m%\u001B[0m\n",
      "\u001B[34m#\u001B[0m  \u001B[32mP\u001B[0m  \u001B[97m.\u001B[0m  \u001B[97m.\u001B[0m\n",
      "\u001B[97m.\u001B[0m  \u001B[97m.\u001B[0m  \u001B[97m.\u001B[0m  \u001B[97mT\u001B[0m\n"
     ]
    }
   ],
   "execution_count": 15
  },
  {
   "metadata": {
    "ExecuteTime": {
     "end_time": "2025-02-06T11:19:48.857339Z",
     "start_time": "2025-02-06T11:19:48.854435Z"
    }
   },
   "cell_type": "code",
   "source": "print(nt.controller.explain_action(2))",
   "id": "35ed914810add714",
   "outputs": [
    {
     "name": "stdout",
     "output_type": "stream",
     "text": [
      "Move -1 0\n"
     ]
    }
   ],
   "execution_count": 7
  },
  {
   "metadata": {
    "ExecuteTime": {
     "end_time": "2025-02-06T11:19:48.907034Z",
     "start_time": "2025-02-06T11:19:48.904254Z"
    }
   },
   "cell_type": "code",
   "source": "bc.swap_enemy()",
   "id": "e8e210e7781a8d20",
   "outputs": [],
   "execution_count": 8
  },
  {
   "metadata": {
    "ExecuteTime": {
     "end_time": "2025-02-06T21:25:10.388329Z",
     "start_time": "2025-02-06T21:25:10.379353Z"
    }
   },
   "cell_type": "code",
   "source": [
    "grid = []\n",
    "actions = []\n",
    "evals = []\n",
    "for a in ActionController(board).get_available_moves():\n",
    "    board_copy = board.copy()\n",
    "    ActionController(board_copy).execute_action(a)\n",
    "    board_copy.step(200, walk_time=200)\n",
    "    grid.append(str(board_copy))\n",
    "    actions.append(a)\n",
    "    evals.append(eval_board(board_copy))\n",
    "\n",
    "gridt = [x.split('\\n') for x in grid]\n",
    "for n in range( math.ceil(len(gridt) / 10)):\n",
    "    print('\\t\\t'.join([f'{ActionController(board).explain_action(actions[i + 10 * n]): <8}' for i in range(min(10, len(gridt) - 10 * n))]))\n",
    "    for j in range(4):\n",
    "        l = [gridt[i + 10 * n][j] for i in range(min(10, len(gridt) - 10 * n))]\n",
    "        print('\\t\\t'.join(l))\n",
    "    print('\\t\\t'.join([f'{round(evals[i + 10 * n], 2): <8}' for i in range(min(10, len(gridt) - 10 * n))]))\n",
    "    print()"
   ],
   "id": "7166b36638d26a0b",
   "outputs": [
    {
     "name": "stdout",
     "output_type": "stream",
     "text": [
      "Skip    \t\tMove -1 0\t\tMove 0 1\t\tMove 1 0\t\tMove 1 -1\t\tPush E 0 0\t\tPush E 0 2\t\tPush E 1 0\t\tPush E 1 2\t\tPush E 2 0\n",
      "\u001B[97m.\u001B[0m  \u001B[33m%\u001B[0m  \u001B[97m.\u001B[0m  \u001B[33m%\u001B[0m\t\t\u001B[97m.\u001B[0m  \u001B[33m%\u001B[0m  \u001B[97m.\u001B[0m  \u001B[33m%\u001B[0m\t\t\u001B[97m.\u001B[0m  \u001B[33m%\u001B[0m  \u001B[97m.\u001B[0m  \u001B[33m%\u001B[0m\t\t\u001B[97m.\u001B[0m  \u001B[33m%\u001B[0m  \u001B[97m.\u001B[0m  \u001B[33m%\u001B[0m\t\t\u001B[97m.\u001B[0m  \u001B[33m%\u001B[0m  \u001B[97m.\u001B[0m  \u001B[33m%\u001B[0m\t\t\u001B[95mo\u001B[0m  \u001B[33m%\u001B[0m  \u001B[97m.\u001B[0m  \u001B[33m%\u001B[0m\t\t\u001B[97m.\u001B[0m  \u001B[33m%\u001B[0m  \u001B[95mo\u001B[0m  \u001B[33m%\u001B[0m\t\t\u001B[97m.\u001B[0m  \u001B[33m%\u001B[0m  \u001B[97m.\u001B[0m  \u001B[33m%\u001B[0m\t\t\u001B[97m.\u001B[0m  \u001B[33m%\u001B[0m  \u001B[97m.\u001B[0m  \u001B[33m%\u001B[0m\t\t\u001B[97m.\u001B[0m  \u001B[33m%\u001B[0m  \u001B[97m.\u001B[0m  \u001B[33m%\u001B[0m\n",
      "\u001B[97m.\u001B[0m  \u001B[33m%\u001B[0m  \u001B[97m.\u001B[0m  \u001B[33m%\u001B[0m\t\t\u001B[97m.\u001B[0m  \u001B[33m%\u001B[0m  \u001B[32mP\u001B[0m  \u001B[33m%\u001B[0m\t\t\u001B[97m.\u001B[0m  \u001B[33m%\u001B[0m  \u001B[97m.\u001B[0m  \u001B[33m%\u001B[0m\t\t\u001B[97m.\u001B[0m  \u001B[33m%\u001B[0m  \u001B[97m.\u001B[0m  \u001B[33m%\u001B[0m\t\t\u001B[97m.\u001B[0m  \u001B[33m%\u001B[0m  \u001B[97m.\u001B[0m  \u001B[33m%\u001B[0m\t\t\u001B[97m.\u001B[0m  \u001B[33m%\u001B[0m  \u001B[97m.\u001B[0m  \u001B[33m%\u001B[0m\t\t\u001B[97m.\u001B[0m  \u001B[33m%\u001B[0m  \u001B[97m.\u001B[0m  \u001B[33m%\u001B[0m\t\t\u001B[95mo\u001B[0m  \u001B[33m%\u001B[0m  \u001B[97m.\u001B[0m  \u001B[33m%\u001B[0m\t\t\u001B[97m.\u001B[0m  \u001B[33m%\u001B[0m  \u001B[95mo\u001B[0m  \u001B[33m%\u001B[0m\t\t\u001B[97m.\u001B[0m  \u001B[33m%\u001B[0m  \u001B[97m.\u001B[0m  \u001B[33m%\u001B[0m\n",
      "\u001B[97m.\u001B[0m  \u001B[97mT\u001B[0m  \u001B[32mP\u001B[0m  \u001B[97m.\u001B[0m\t\t\u001B[97m.\u001B[0m  \u001B[97mT\u001B[0m  \u001B[97m.\u001B[0m  \u001B[97m.\u001B[0m\t\t\u001B[97m.\u001B[0m  \u001B[97mT\u001B[0m  \u001B[97m.\u001B[0m  \u001B[32mP\u001B[0m\t\t\u001B[97m.\u001B[0m  \u001B[97mT\u001B[0m  \u001B[97m.\u001B[0m  \u001B[97m.\u001B[0m\t\t\u001B[97m.\u001B[0m  \u001B[97mT\u001B[0m  \u001B[97m.\u001B[0m  \u001B[97m.\u001B[0m\t\t\u001B[97m.\u001B[0m  \u001B[97mT\u001B[0m  \u001B[32mP\u001B[0m  \u001B[97m.\u001B[0m\t\t\u001B[97m.\u001B[0m  \u001B[97mT\u001B[0m  \u001B[32mP\u001B[0m  \u001B[97m.\u001B[0m\t\t\u001B[97m.\u001B[0m  \u001B[97mT\u001B[0m  \u001B[32mP\u001B[0m  \u001B[97m.\u001B[0m\t\t\u001B[97m.\u001B[0m  \u001B[97mT\u001B[0m  \u001B[32mP\u001B[0m  \u001B[97m.\u001B[0m\t\t\u001B[95mo\u001B[0m  \u001B[97mT\u001B[0m  \u001B[32mP\u001B[0m  \u001B[97m.\u001B[0m\n",
      "\u001B[97m.\u001B[0m  \u001B[97m.\u001B[0m  \u001B[97m.\u001B[0m  \u001B[31mE\u001B[0m\t\t\u001B[97m.\u001B[0m  \u001B[97m.\u001B[0m  \u001B[97m.\u001B[0m  \u001B[31mE\u001B[0m\t\t\u001B[97m.\u001B[0m  \u001B[97m.\u001B[0m  \u001B[97m.\u001B[0m  \u001B[31mE\u001B[0m\t\t\u001B[97m.\u001B[0m  \u001B[97m.\u001B[0m  \u001B[32mP\u001B[0m  \u001B[31mE\u001B[0m\t\t\u001B[97m.\u001B[0m  \u001B[32mP\u001B[0m  \u001B[97m.\u001B[0m  \u001B[31mE\u001B[0m\t\t\u001B[97m.\u001B[0m  \u001B[97m.\u001B[0m  \u001B[97m.\u001B[0m  \u001B[31mE\u001B[0m\t\t\u001B[97m.\u001B[0m  \u001B[97m.\u001B[0m  \u001B[97m.\u001B[0m  \u001B[31mE\u001B[0m\t\t\u001B[97m.\u001B[0m  \u001B[97m.\u001B[0m  \u001B[97m.\u001B[0m  \u001B[31mE\u001B[0m\t\t\u001B[97m.\u001B[0m  \u001B[97m.\u001B[0m  \u001B[97m.\u001B[0m  \u001B[31mE\u001B[0m\t\t\u001B[97m.\u001B[0m  \u001B[97m.\u001B[0m  \u001B[97m.\u001B[0m  \u001B[31mE\u001B[0m\n",
      "3.91    \t\t-3.59   \t\t3.9     \t\t4.49    \t\t4.26    \t\t6.13    \t\t10.58   \t\t5.97    \t\t7.24    \t\t5.65    \n",
      "\n",
      "Push E 2 1\t\tPush E 2 2\t\tPush E 2 3\t\tPush E 3 0\t\tPush E 3 1\t\tPush E 3 2\t\tPush E 3 3\t\tPush T 1 2\t\tPush T 2 1\t\tPush T 2 2\n",
      "\u001B[97m.\u001B[0m  \u001B[33m%\u001B[0m  \u001B[97m.\u001B[0m  \u001B[33m%\u001B[0m\t\t\u001B[97m.\u001B[0m  \u001B[33m%\u001B[0m  \u001B[97m.\u001B[0m  \u001B[33m%\u001B[0m\t\t\u001B[97m.\u001B[0m  \u001B[33m%\u001B[0m  \u001B[97m.\u001B[0m  \u001B[33m%\u001B[0m\t\t\u001B[97m.\u001B[0m  \u001B[33m%\u001B[0m  \u001B[97m.\u001B[0m  \u001B[33m%\u001B[0m\t\t\u001B[97m.\u001B[0m  \u001B[33m%\u001B[0m  \u001B[97m.\u001B[0m  \u001B[33m%\u001B[0m\t\t\u001B[97m.\u001B[0m  \u001B[33m%\u001B[0m  \u001B[97m.\u001B[0m  \u001B[33m%\u001B[0m\t\t\u001B[97m.\u001B[0m  \u001B[33m%\u001B[0m  \u001B[97m.\u001B[0m  \u001B[33m%\u001B[0m\t\t\u001B[97m.\u001B[0m  \u001B[33m%\u001B[0m  \u001B[97m.\u001B[0m  \u001B[33m%\u001B[0m\t\t\u001B[97m.\u001B[0m  \u001B[33m%\u001B[0m  \u001B[97m.\u001B[0m  \u001B[33m%\u001B[0m\t\t\u001B[97m.\u001B[0m  \u001B[33m%\u001B[0m  \u001B[97m.\u001B[0m  \u001B[33m%\u001B[0m\n",
      "\u001B[97m.\u001B[0m  \u001B[33m%\u001B[0m  \u001B[97m.\u001B[0m  \u001B[33m%\u001B[0m\t\t\u001B[97m.\u001B[0m  \u001B[33m%\u001B[0m  \u001B[97m.\u001B[0m  \u001B[33m%\u001B[0m\t\t\u001B[97m.\u001B[0m  \u001B[33m%\u001B[0m  \u001B[97m.\u001B[0m  \u001B[33m%\u001B[0m\t\t\u001B[97m.\u001B[0m  \u001B[33m%\u001B[0m  \u001B[97m.\u001B[0m  \u001B[33m%\u001B[0m\t\t\u001B[97m.\u001B[0m  \u001B[33m%\u001B[0m  \u001B[97m.\u001B[0m  \u001B[33m%\u001B[0m\t\t\u001B[97m.\u001B[0m  \u001B[33m%\u001B[0m  \u001B[97m.\u001B[0m  \u001B[33m%\u001B[0m\t\t\u001B[97m.\u001B[0m  \u001B[33m%\u001B[0m  \u001B[97m.\u001B[0m  \u001B[33m%\u001B[0m\t\t\u001B[97m.\u001B[0m  \u001B[33m%\u001B[0m  \u001B[92mo\u001B[0m  \u001B[33m%\u001B[0m\t\t\u001B[97m.\u001B[0m  \u001B[33m%\u001B[0m  \u001B[97m.\u001B[0m  \u001B[33m%\u001B[0m\t\t\u001B[97m.\u001B[0m  \u001B[33m%\u001B[0m  \u001B[97m.\u001B[0m  \u001B[33m%\u001B[0m\n",
      "\u001B[97m.\u001B[0m  \u001B[95mo\u001B[0m  \u001B[32mP\u001B[0m  \u001B[97m.\u001B[0m\t\t\u001B[97m.\u001B[0m  \u001B[97mT\u001B[0m  \u001B[95mo\u001B[0m  \u001B[97m.\u001B[0m\t\t\u001B[97m.\u001B[0m  \u001B[97mT\u001B[0m  \u001B[32mP\u001B[0m  \u001B[95mo\u001B[0m\t\t\u001B[97m.\u001B[0m  \u001B[97mT\u001B[0m  \u001B[32mP\u001B[0m  \u001B[97m.\u001B[0m\t\t\u001B[97m.\u001B[0m  \u001B[97mT\u001B[0m  \u001B[32mP\u001B[0m  \u001B[97m.\u001B[0m\t\t\u001B[97m.\u001B[0m  \u001B[97mT\u001B[0m  \u001B[32mP\u001B[0m  \u001B[97m.\u001B[0m\t\t\u001B[97m.\u001B[0m  \u001B[97mT\u001B[0m  \u001B[32mP\u001B[0m  \u001B[97m.\u001B[0m\t\t\u001B[97m.\u001B[0m  \u001B[97mT\u001B[0m  \u001B[32mP\u001B[0m  \u001B[97m.\u001B[0m\t\t\u001B[97m.\u001B[0m  \u001B[92mo\u001B[0m  \u001B[32mP\u001B[0m  \u001B[97m.\u001B[0m\t\t\u001B[97m.\u001B[0m  \u001B[97mT\u001B[0m  \u001B[92mo\u001B[0m  \u001B[97m.\u001B[0m\n",
      "\u001B[97m.\u001B[0m  \u001B[97m.\u001B[0m  \u001B[97m.\u001B[0m  \u001B[31mE\u001B[0m\t\t\u001B[97m.\u001B[0m  \u001B[97m.\u001B[0m  \u001B[97m.\u001B[0m  \u001B[31mE\u001B[0m\t\t\u001B[97m.\u001B[0m  \u001B[97m.\u001B[0m  \u001B[97m.\u001B[0m  \u001B[31mE\u001B[0m\t\t\u001B[95mo\u001B[0m  \u001B[97m.\u001B[0m  \u001B[97m.\u001B[0m  \u001B[31mE\u001B[0m\t\t\u001B[97m.\u001B[0m  \u001B[95mo\u001B[0m  \u001B[97m.\u001B[0m  \u001B[31mE\u001B[0m\t\t\u001B[97m.\u001B[0m  \u001B[97m.\u001B[0m  \u001B[95mo\u001B[0m  \u001B[31mE\u001B[0m\t\t\u001B[97m.\u001B[0m  \u001B[97m.\u001B[0m  \u001B[97m.\u001B[0m  \u001B[95mo\u001B[0m\t\t\u001B[97m.\u001B[0m  \u001B[97m.\u001B[0m  \u001B[97m.\u001B[0m  \u001B[31mE\u001B[0m\t\t\u001B[97m.\u001B[0m  \u001B[97m.\u001B[0m  \u001B[97m.\u001B[0m  \u001B[31mE\u001B[0m\t\t\u001B[97m.\u001B[0m  \u001B[97m.\u001B[0m  \u001B[97m.\u001B[0m  \u001B[31mE\u001B[0m\n",
      "5.97    \t\t6.13    \t\t5.97    \t\t5.36    \t\t5.51    \t\t5.58    \t\t5.51    \t\t3.91    \t\t3.91    \t\t3.91    \n",
      "\n",
      "Push T 2 3\t\tPush T 3 1\t\tPush T 3 2\t\tPush T 3 3\t\tMW 1 0  \t\tMW 1 2  \t\tMW 2 0  \t\tMW 2 3  \t\tMW 3 0  \t\tMW 3 1  \n",
      "\u001B[97m.\u001B[0m  \u001B[33m%\u001B[0m  \u001B[97m.\u001B[0m  \u001B[33m%\u001B[0m\t\t\u001B[97m.\u001B[0m  \u001B[33m%\u001B[0m  \u001B[97m.\u001B[0m  \u001B[33m%\u001B[0m\t\t\u001B[97m.\u001B[0m  \u001B[33m%\u001B[0m  \u001B[97m.\u001B[0m  \u001B[33m%\u001B[0m\t\t\u001B[97m.\u001B[0m  \u001B[33m%\u001B[0m  \u001B[97m.\u001B[0m  \u001B[33m%\u001B[0m\t\t\u001B[97m.\u001B[0m  \u001B[33m%\u001B[0m  \u001B[97m.\u001B[0m  \u001B[33m%\u001B[0m\t\t\u001B[97m.\u001B[0m  \u001B[33m%\u001B[0m  \u001B[97m.\u001B[0m  \u001B[33m%\u001B[0m\t\t\u001B[97m.\u001B[0m  \u001B[33m%\u001B[0m  \u001B[97m.\u001B[0m  \u001B[33m%\u001B[0m\t\t\u001B[97m.\u001B[0m  \u001B[33m%\u001B[0m  \u001B[97m.\u001B[0m  \u001B[33m%\u001B[0m\t\t\u001B[97m.\u001B[0m  \u001B[33m%\u001B[0m  \u001B[97m.\u001B[0m  \u001B[33m%\u001B[0m\t\t\u001B[97m.\u001B[0m  \u001B[33m%\u001B[0m  \u001B[97m.\u001B[0m  \u001B[33m%\u001B[0m\n",
      "\u001B[97m.\u001B[0m  \u001B[33m%\u001B[0m  \u001B[97m.\u001B[0m  \u001B[33m%\u001B[0m\t\t\u001B[97m.\u001B[0m  \u001B[33m%\u001B[0m  \u001B[97m.\u001B[0m  \u001B[33m%\u001B[0m\t\t\u001B[97m.\u001B[0m  \u001B[33m%\u001B[0m  \u001B[97m.\u001B[0m  \u001B[33m%\u001B[0m\t\t\u001B[97m.\u001B[0m  \u001B[33m%\u001B[0m  \u001B[97m.\u001B[0m  \u001B[33m%\u001B[0m\t\t\u001B[34m#\u001B[0m  \u001B[33m%\u001B[0m  \u001B[97m.\u001B[0m  \u001B[33m%\u001B[0m\t\t\u001B[97m.\u001B[0m  \u001B[33m%\u001B[0m  \u001B[34m#\u001B[0m  \u001B[33m%\u001B[0m\t\t\u001B[97m.\u001B[0m  \u001B[33m%\u001B[0m  \u001B[97m.\u001B[0m  \u001B[33m%\u001B[0m\t\t\u001B[97m.\u001B[0m  \u001B[33m%\u001B[0m  \u001B[97m.\u001B[0m  \u001B[33m%\u001B[0m\t\t\u001B[97m.\u001B[0m  \u001B[33m%\u001B[0m  \u001B[97m.\u001B[0m  \u001B[33m%\u001B[0m\t\t\u001B[97m.\u001B[0m  \u001B[33m%\u001B[0m  \u001B[97m.\u001B[0m  \u001B[33m%\u001B[0m\n",
      "\u001B[97m.\u001B[0m  \u001B[97mT\u001B[0m  \u001B[32mP\u001B[0m  \u001B[92mo\u001B[0m\t\t\u001B[97m.\u001B[0m  \u001B[97mT\u001B[0m  \u001B[32mP\u001B[0m  \u001B[97m.\u001B[0m\t\t\u001B[97m.\u001B[0m  \u001B[97mT\u001B[0m  \u001B[32mP\u001B[0m  \u001B[97m.\u001B[0m\t\t\u001B[97m.\u001B[0m  \u001B[97mT\u001B[0m  \u001B[32mP\u001B[0m  \u001B[97m.\u001B[0m\t\t\u001B[97m.\u001B[0m  \u001B[97mT\u001B[0m  \u001B[32mP\u001B[0m  \u001B[97m.\u001B[0m\t\t\u001B[97m.\u001B[0m  \u001B[97mT\u001B[0m  \u001B[32mP\u001B[0m  \u001B[97m.\u001B[0m\t\t\u001B[34m#\u001B[0m  \u001B[97mT\u001B[0m  \u001B[32mP\u001B[0m  \u001B[97m.\u001B[0m\t\t\u001B[97m.\u001B[0m  \u001B[97mT\u001B[0m  \u001B[32mP\u001B[0m  \u001B[34m#\u001B[0m\t\t\u001B[97m.\u001B[0m  \u001B[97mT\u001B[0m  \u001B[32mP\u001B[0m  \u001B[97m.\u001B[0m\t\t\u001B[97m.\u001B[0m  \u001B[97mT\u001B[0m  \u001B[32mP\u001B[0m  \u001B[97m.\u001B[0m\n",
      "\u001B[97m.\u001B[0m  \u001B[97m.\u001B[0m  \u001B[97m.\u001B[0m  \u001B[31mE\u001B[0m\t\t\u001B[97m.\u001B[0m  \u001B[92mo\u001B[0m  \u001B[97m.\u001B[0m  \u001B[31mE\u001B[0m\t\t\u001B[97m.\u001B[0m  \u001B[97m.\u001B[0m  \u001B[92mo\u001B[0m  \u001B[31mE\u001B[0m\t\t\u001B[97m.\u001B[0m  \u001B[97m.\u001B[0m  \u001B[97m.\u001B[0m  \u001B[92mo\u001B[0m\t\t\u001B[97m.\u001B[0m  \u001B[97m.\u001B[0m  \u001B[97m.\u001B[0m  \u001B[31mE\u001B[0m\t\t\u001B[97m.\u001B[0m  \u001B[97m.\u001B[0m  \u001B[97m.\u001B[0m  \u001B[31mE\u001B[0m\t\t\u001B[97m.\u001B[0m  \u001B[97m.\u001B[0m  \u001B[97m.\u001B[0m  \u001B[31mE\u001B[0m\t\t\u001B[97m.\u001B[0m  \u001B[97m.\u001B[0m  \u001B[97m.\u001B[0m  \u001B[31mE\u001B[0m\t\t\u001B[34m#\u001B[0m  \u001B[97m.\u001B[0m  \u001B[97m.\u001B[0m  \u001B[31mE\u001B[0m\t\t\u001B[97m.\u001B[0m  \u001B[34m#\u001B[0m  \u001B[97m.\u001B[0m  \u001B[31mE\u001B[0m\n",
      "3.91    \t\t3.91    \t\t3.91    \t\t3.91    \t\t-7.09   \t\t-12.34  \t\t2.91    \t\t-1.17   \t\t2.91    \t\t2.66    \n",
      "\n",
      "MW 3 2  \n",
      "\u001B[97m.\u001B[0m  \u001B[33m%\u001B[0m  \u001B[97m.\u001B[0m  \u001B[33m%\u001B[0m\n",
      "\u001B[97m.\u001B[0m  \u001B[33m%\u001B[0m  \u001B[97m.\u001B[0m  \u001B[33m%\u001B[0m\n",
      "\u001B[97m.\u001B[0m  \u001B[97mT\u001B[0m  \u001B[32mP\u001B[0m  \u001B[97m.\u001B[0m\n",
      "\u001B[97m.\u001B[0m  \u001B[97m.\u001B[0m  \u001B[34m#\u001B[0m  \u001B[31mE\u001B[0m\n",
      "3.83    \n",
      "\n"
     ]
    }
   ],
   "execution_count": 8
  },
  {
   "metadata": {
    "ExecuteTime": {
     "end_time": "2025-02-06T11:19:49.900133Z",
     "start_time": "2025-02-06T11:19:49.028651Z"
    }
   },
   "cell_type": "code",
   "source": [
    "q = [(0, board)]\n",
    "visited = set()\n",
    "for _ in range(5000):\n",
    "    _, b = heappop(q)\n",
    "    if b in visited:\n",
    "        continue\n",
    "\n",
    "    if ActionController(b).is_win():\n",
    "        print(\"WIN\")\n",
    "        break\n",
    "    visited.add(b)\n",
    "    for p in ActionController(b).get_available_moves():\n",
    "        board_copy = b.copy()\n",
    "        ActionController(board_copy).execute_action(p)\n",
    "        board_copy.step(1000, walk_time=800)\n",
    "        board_copy.swap_enemy()\n",
    "        heappush(q, (eval_board(board_copy), board_copy))\n",
    "\n",
    "v, b = heappop(q)\n",
    "print(v)\n",
    "print(b)"
   ],
   "id": "49ea99fb4a2825d6",
   "outputs": [
    {
     "name": "stdout",
     "output_type": "stream",
     "text": [
      "-1006.6666666666666\n",
      "\u001B[97m.\u001B[0m  \u001B[33m%\u001B[0m  \u001B[97m.\u001B[0m  \u001B[33m%\u001B[0m\n",
      "\u001B[34m#\u001B[0m  \u001B[33m%\u001B[0m  \u001B[34m#\u001B[0m  \u001B[33m%\u001B[0m\n",
      "\u001B[32mP\u001B[0m  \u001B[31mE\u001B[0m  \u001B[34m#\u001B[0m  \u001B[34m#\u001B[0m\n",
      "\u001B[34m#\u001B[0m  \u001B[34m#\u001B[0m  \u001B[97mT\u001B[0m  \u001B[34m#\u001B[0m\n"
     ]
    }
   ],
   "execution_count": 10
  },
  {
   "metadata": {
    "ExecuteTime": {
     "end_time": "2025-02-06T11:19:49.915141Z",
     "start_time": "2025-02-06T11:19:49.913116Z"
    }
   },
   "cell_type": "code",
   "source": "",
   "id": "fe7bc823d846c045",
   "outputs": [],
   "execution_count": null
  }
 ],
 "metadata": {
  "kernelspec": {
   "display_name": "Python 3",
   "language": "python",
   "name": "python3"
  },
  "language_info": {
   "codemirror_mode": {
    "name": "ipython",
    "version": 2
   },
   "file_extension": ".py",
   "mimetype": "text/x-python",
   "name": "python",
   "nbconvert_exporter": "python",
   "pygments_lexer": "ipython2",
   "version": "2.7.6"
  }
 },
 "nbformat": 4,
 "nbformat_minor": 5
}
