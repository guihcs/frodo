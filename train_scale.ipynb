{
 "cells": [
  {
   "cell_type": "code",
   "id": "initial_id",
   "metadata": {
    "collapsed": true,
    "ExecuteTime": {
     "end_time": "2025-02-13T23:31:06.234044Z",
     "start_time": "2025-02-13T23:31:04.329747Z"
    }
   },
   "source": [
    "from board3 import Board3, sqr_distance\n",
    "from controller3 import ActionController, MW_CELLS\n",
    "import time\n",
    "from heapq import heappush, heappop\n",
    "from tqdm.auto import tqdm\n",
    "import random\n",
    "import torch\n",
    "import torch.nn as nn\n",
    "import torch.optim as optim\n",
    "from torch.utils.data import DataLoader, TensorDataset\n",
    "import matplotlib.pyplot as plt\n",
    "\n",
    "from collections import Counter\n",
    "from mcts import search\n",
    "from nnl import to_emb, gather_history"
   ],
   "outputs": [],
   "execution_count": 1
  },
  {
   "metadata": {
    "ExecuteTime": {
     "end_time": "2025-02-13T23:31:07.049143Z",
     "start_time": "2025-02-13T23:31:07.046231Z"
    }
   },
   "cell_type": "code",
   "source": [
    "board = Board3(walk_time=500)\n",
    "board.set_player(1, 0)\n",
    "board.set_enemy(2, 0)\n",
    "board.set_todd(1, 2)\n",
    "board.player_throw_mw(2, 1)\n",
    "# board.swap_enemy()\n",
    "board.step(2000)\n",
    "# board.swap_enemy()\n",
    "print(board)"
   ],
   "id": "44597210d7d7a9e4",
   "outputs": [
    {
     "name": "stdout",
     "output_type": "stream",
     "text": [
      "\u001B[97m.\u001B[0m  \u001B[33m%\u001B[0m  \u001B[97m.\u001B[0m  \u001B[33m%\u001B[0m\n",
      "\u001B[32mP\u001B[0m  \u001B[33m%\u001B[0m  \u001B[97mT\u001B[0m  \u001B[33m%\u001B[0m\n",
      "\u001B[31mE\u001B[0m  \u001B[34m#\u001B[0m  \u001B[97m.\u001B[0m  \u001B[97m.\u001B[0m\n",
      "\u001B[97m.\u001B[0m  \u001B[97m.\u001B[0m  \u001B[97m.\u001B[0m  \u001B[97m.\u001B[0m\n"
     ]
    }
   ],
   "execution_count": 2
  },
  {
   "metadata": {
    "ExecuteTime": {
     "end_time": "2025-02-13T23:31:09.797226Z",
     "start_time": "2025-02-13T23:31:08.830260Z"
    }
   },
   "cell_type": "code",
   "source": [
    "\n",
    "\n",
    "start = time.time()\n",
    "path = search(board, max_iterations=100000, time_step=1000)\n",
    "if path:\n",
    "    print(len(path))\n",
    "print(f'Time: {time.time() - start}')"
   ],
   "id": "3c671844997002ad",
   "outputs": [
    {
     "name": "stdout",
     "output_type": "stream",
     "text": [
      "8\n",
      "Time: 0.9639456272125244\n"
     ]
    }
   ],
   "execution_count": 3
  },
  {
   "metadata": {
    "ExecuteTime": {
     "end_time": "2025-02-13T23:31:11.488808Z",
     "start_time": "2025-02-13T23:31:11.485175Z"
    }
   },
   "cell_type": "code",
   "source": [
    "for b, a in path:\n",
    "    print(b)\n",
    "    print(ActionController(b).explain_action(a))"
   ],
   "id": "cb3296ff30f682ff",
   "outputs": [
    {
     "name": "stdout",
     "output_type": "stream",
     "text": [
      "\u001B[97m.\u001B[0m  \u001B[33m%\u001B[0m  \u001B[97m.\u001B[0m  \u001B[33m%\u001B[0m\n",
      "\u001B[32mP\u001B[0m  \u001B[33m%\u001B[0m  \u001B[97mT\u001B[0m  \u001B[33m%\u001B[0m\n",
      "\u001B[31mE\u001B[0m  \u001B[34m#\u001B[0m  \u001B[97m.\u001B[0m  \u001B[97m.\u001B[0m\n",
      "\u001B[97m.\u001B[0m  \u001B[97m.\u001B[0m  \u001B[97m.\u001B[0m  \u001B[97m.\u001B[0m\n",
      "Push E 3 0\n",
      "\u001B[97m.\u001B[0m  \u001B[33m%\u001B[0m  \u001B[97m.\u001B[0m  \u001B[33m%\u001B[0m\n",
      "\u001B[32mP\u001B[0m  \u001B[33m%\u001B[0m  \u001B[97m.\u001B[0m  \u001B[33m%\u001B[0m\n",
      "\u001B[97m.\u001B[0m  \u001B[34m#\u001B[0m  \u001B[97mT\u001B[0m  \u001B[97m.\u001B[0m\n",
      "\u001B[31mE\u001B[0m  \u001B[97m.\u001B[0m  \u001B[97m.\u001B[0m  \u001B[97m.\u001B[0m\n",
      "Push T 3 3\n",
      "\u001B[97m.\u001B[0m  \u001B[33m%\u001B[0m  \u001B[97m.\u001B[0m  \u001B[33m%\u001B[0m\n",
      "\u001B[97m.\u001B[0m  \u001B[33m%\u001B[0m  \u001B[97m.\u001B[0m  \u001B[33m%\u001B[0m\n",
      "\u001B[32mP\u001B[0m  \u001B[34m#\u001B[0m  \u001B[97mT\u001B[0m  \u001B[97m.\u001B[0m\n",
      "\u001B[31mE\u001B[0m  \u001B[97m.\u001B[0m  \u001B[97m.\u001B[0m  \u001B[92mO\u001B[0m\n",
      "Move 1 1\n",
      "\u001B[97m.\u001B[0m  \u001B[33m%\u001B[0m  \u001B[97m.\u001B[0m  \u001B[33m%\u001B[0m\n",
      "\u001B[97m.\u001B[0m  \u001B[33m%\u001B[0m  \u001B[97m.\u001B[0m  \u001B[33m%\u001B[0m\n",
      "\u001B[97m.\u001B[0m  \u001B[34m#\u001B[0m  \u001B[97mT\u001B[0m  \u001B[97m.\u001B[0m\n",
      "\u001B[31mE\u001B[0m  \u001B[32mP\u001B[0m  \u001B[97m.\u001B[0m  \u001B[97m.\u001B[0m\n",
      "Push E 2 0\n",
      "\u001B[97m.\u001B[0m  \u001B[33m%\u001B[0m  \u001B[97m.\u001B[0m  \u001B[33m%\u001B[0m\n",
      "\u001B[97m.\u001B[0m  \u001B[33m%\u001B[0m  \u001B[97m.\u001B[0m  \u001B[33m%\u001B[0m\n",
      "\u001B[31mE\u001B[0m  \u001B[34m#\u001B[0m  \u001B[97m.\u001B[0m  \u001B[97mT\u001B[0m\n",
      "\u001B[97m.\u001B[0m  \u001B[32mP\u001B[0m  \u001B[97m.\u001B[0m  \u001B[97m.\u001B[0m\n",
      "Push E 1 0\n",
      "\u001B[97m.\u001B[0m  \u001B[33m%\u001B[0m  \u001B[97m.\u001B[0m  \u001B[33m%\u001B[0m\n",
      "\u001B[31mE\u001B[0m  \u001B[33m%\u001B[0m  \u001B[97m.\u001B[0m  \u001B[33m%\u001B[0m\n",
      "\u001B[97m.\u001B[0m  \u001B[34m#\u001B[0m  \u001B[97m.\u001B[0m  \u001B[97mT\u001B[0m\n",
      "\u001B[97m.\u001B[0m  \u001B[32mP\u001B[0m  \u001B[97m.\u001B[0m  \u001B[97m.\u001B[0m\n",
      "Move -1 -1\n",
      "\u001B[97m.\u001B[0m  \u001B[33m%\u001B[0m  \u001B[97m.\u001B[0m  \u001B[33m%\u001B[0m\n",
      "\u001B[31mE\u001B[0m  \u001B[33m%\u001B[0m  \u001B[97m.\u001B[0m  \u001B[33m%\u001B[0m\n",
      "\u001B[32mP\u001B[0m  \u001B[34m#\u001B[0m  \u001B[97m.\u001B[0m  \u001B[97mT\u001B[0m\n",
      "\u001B[97m.\u001B[0m  \u001B[97m.\u001B[0m  \u001B[97m.\u001B[0m  \u001B[97m.\u001B[0m\n",
      "Push E 0 0\n",
      "\u001B[31mE\u001B[0m  \u001B[33m%\u001B[0m  \u001B[97m.\u001B[0m  \u001B[33m%\u001B[0m\n",
      "\u001B[97m.\u001B[0m  \u001B[33m%\u001B[0m  \u001B[97m.\u001B[0m  \u001B[33m%\u001B[0m\n",
      "\u001B[32mP\u001B[0m  \u001B[34m#\u001B[0m  \u001B[97mT\u001B[0m  \u001B[97m.\u001B[0m\n",
      "\u001B[97m.\u001B[0m  \u001B[97m.\u001B[0m  \u001B[97m.\u001B[0m  \u001B[97m.\u001B[0m\n",
      "MW 1 0\n"
     ]
    }
   ],
   "execution_count": 4
  },
  {
   "metadata": {
    "ExecuteTime": {
     "end_time": "2025-02-14T00:03:58.043214Z",
     "start_time": "2025-02-14T00:01:15.388544Z"
    }
   },
   "cell_type": "code",
   "source": [
    "sz = 2000\n",
    "progress = tqdm(total=sz)\n",
    "data = []\n",
    "while len(data) < sz:\n",
    "    board = Board3(walk_time=500)\n",
    "    mwc = random.choice([0, 1])\n",
    "    for _ in range(mwc):\n",
    "        cl = random.choice(list(set(MW_CELLS) - {board.get_player_position(), board.get_enemy_position(), board.get_todd_position()}.union(board.mw)))\n",
    "        board.add_mw(*cl)\n",
    "\n",
    "    # data.append(board)\n",
    "    path = search(board, 10000)\n",
    "    if path is not None:\n",
    "        eh = gather_history(path)\n",
    "        data.extend(eh)\n",
    "        progress.update(len(eh))\n",
    "\n",
    "progress.close()\n"
   ],
   "id": "7246b5b5a65fa561",
   "outputs": [
    {
     "data": {
      "text/plain": [
       "  0%|          | 0/2000 [00:00<?, ?it/s]"
      ],
      "application/vnd.jupyter.widget-view+json": {
       "version_major": 2,
       "version_minor": 0,
       "model_id": "97e10c87509a482281e97f479da1ad2b"
      }
     },
     "metadata": {},
     "output_type": "display_data"
    }
   ],
   "execution_count": 17
  },
  {
   "metadata": {
    "ExecuteTime": {
     "end_time": "2025-02-14T00:04:57.708298Z",
     "start_time": "2025-02-14T00:04:57.377086Z"
    }
   },
   "cell_type": "code",
   "source": [
    "boards = []\n",
    "histories = []\n",
    "actions = []\n",
    "\n",
    "for h in data:\n",
    "    hl = []\n",
    "    for b, a in h[:-1]:\n",
    "        board_embedding = to_emb(b)\n",
    "        action_embedding = nn.functional.one_hot(torch.LongTensor([a]), ActionController(b).get_action_space())\n",
    "        hl.append(torch.cat([board_embedding, action_embedding], dim=1))\n",
    "    hl = torch.cat(hl, dim=0).unsqueeze(0)\n",
    "    be = to_emb(h[-1][0])\n",
    "    boards.append(be)\n",
    "    histories.append(hl)\n",
    "    actions.append(h[-1][1])\n",
    "\n",
    "boards = torch.cat(boards, dim=0)\n",
    "histories = torch.cat(histories, dim=0)\n",
    "actions = torch.LongTensor(actions)\n",
    "print(boards.shape, histories.shape, actions.shape)\n",
    "train_dataset = TensorDataset(boards, histories, actions)"
   ],
   "id": "c5ce2524ad0e46bc",
   "outputs": [
    {
     "name": "stdout",
     "output_type": "stream",
     "text": [
      "torch.Size([2002, 22]) torch.Size([2002, 2, 60]) torch.Size([2002])\n"
     ]
    }
   ],
   "execution_count": 18
  },
  {
   "metadata": {
    "ExecuteTime": {
     "end_time": "2025-02-14T00:05:09.322304Z",
     "start_time": "2025-02-14T00:05:00.107784Z"
    }
   },
   "cell_type": "code",
   "source": [
    "progress = tqdm(total=100)\n",
    "data = []\n",
    "while len(data) < 100:\n",
    "    board = Board3(walk_time=500)\n",
    "    # for _ in range(3):\n",
    "    #     if random.random() < 0.3:\n",
    "    #         board.add_mw(*random.choice(MW_CELLS))\n",
    "    path = search(board, 1000)\n",
    "    if path is not None:\n",
    "        eh = gather_history(path)\n",
    "        data.extend(eh)\n",
    "        progress.update(len(eh))\n",
    "\n",
    "progress.close()\n",
    "\n",
    "\n",
    "boards = []\n",
    "histories = []\n",
    "actions = []\n",
    "\n",
    "for h in data:\n",
    "    hl = []\n",
    "    for b, a in h[:-1]:\n",
    "        board_embedding = to_emb(b)\n",
    "        action_embedding = nn.functional.one_hot(torch.LongTensor([a]), ActionController(b).get_action_space())\n",
    "        hl.append(torch.cat([board_embedding, action_embedding], dim=1))\n",
    "    hl = torch.cat(hl, dim=0).unsqueeze(0)\n",
    "    be = to_emb(h[-1][0])\n",
    "    boards.append(be)\n",
    "    histories.append(hl)\n",
    "    actions.append(h[-1][1])\n",
    "\n",
    "boards = torch.cat(boards, dim=0)\n",
    "histories = torch.cat(histories, dim=0)\n",
    "actions = torch.LongTensor(actions)\n",
    "print(boards.shape, histories.shape, actions.shape)\n",
    "test_dataset = TensorDataset(boards, histories, actions)"
   ],
   "id": "29a3baa3ee04ed7b",
   "outputs": [
    {
     "data": {
      "text/plain": [
       "  0%|          | 0/100 [00:00<?, ?it/s]"
      ],
      "application/vnd.jupyter.widget-view+json": {
       "version_major": 2,
       "version_minor": 0,
       "model_id": "c27a80c8165847c38edcd7a111603bce"
      }
     },
     "metadata": {},
     "output_type": "display_data"
    },
    {
     "name": "stdout",
     "output_type": "stream",
     "text": [
      "torch.Size([100, 22]) torch.Size([100, 2, 60]) torch.Size([100])\n"
     ]
    }
   ],
   "execution_count": 19
  },
  {
   "metadata": {
    "ExecuteTime": {
     "end_time": "2025-02-14T00:05:11.920890Z",
     "start_time": "2025-02-14T00:05:11.905315Z"
    }
   },
   "cell_type": "code",
   "source": [
    "mc = torch.zeros(4)\n",
    "mv = torch.zeros(4)\n",
    "\n",
    "for b, h, a in DataLoader(test_dataset, batch_size=32):\n",
    "    mc[torch.sum(b[:, 6:] > 0, dim=1)] += len(b)\n",
    "\n",
    "\n",
    "print(mc)"
   ],
   "id": "18092e43f9b40878",
   "outputs": [
    {
     "name": "stdout",
     "output_type": "stream",
     "text": [
      "tensor([100.,   0.,   0.,   0.])\n"
     ]
    }
   ],
   "execution_count": 20
  },
  {
   "metadata": {
    "ExecuteTime": {
     "end_time": "2025-02-14T00:05:13.896605Z",
     "start_time": "2025-02-14T00:05:13.892886Z"
    }
   },
   "cell_type": "code",
   "source": [
    "def eval_fc(dataset):\n",
    "    mc = torch.zeros(4)\n",
    "    mv = torch.zeros(4)\n",
    "    fp.eval()\n",
    "    correct = 0\n",
    "    for b, h, a in DataLoader(dataset, batch_size=32):\n",
    "        mc[torch.sum(b[:, 6:] > 0, dim=1)] += len(b)\n",
    "        with torch.no_grad():\n",
    "            y = fp(b, h).exp()\n",
    "        mv[torch.sum(b[:, 6:] > 0, dim=1)] += (y.argmax(dim=-1) == a).sum()\n",
    "    mc[mc == 0] = 1\n",
    "    return mv / mc"
   ],
   "id": "81c7f79e16733cc5",
   "outputs": [],
   "execution_count": 21
  },
  {
   "metadata": {
    "ExecuteTime": {
     "end_time": "2025-02-14T00:06:44.046388Z",
     "start_time": "2025-02-14T00:05:14.911150Z"
    }
   },
   "cell_type": "code",
   "source": [
    "class FP(nn.Module):\n",
    "    def __init__(self, n_dim, a_space):\n",
    "        super(FP, self).__init__()\n",
    "        self.n_dim = n_dim\n",
    "        self.a_space = a_space\n",
    "        self.fc = nn.Sequential(\n",
    "            nn.BatchNorm1d(n_dim),\n",
    "            nn.Linear(n_dim, 64),\n",
    "            nn.ReLU(),\n",
    "            nn.Dropout(0.1),\n",
    "            nn.Linear(64, 128),\n",
    "            nn.ReLU(),\n",
    "            nn.Dropout(0.1),\n",
    "            nn.Linear(128, 256),\n",
    "\n",
    "        )\n",
    "\n",
    "        self.hf = nn.Sequential(\n",
    "            nn.Flatten(start_dim=1),\n",
    "            nn.BatchNorm1d(120),\n",
    "            nn.Linear(120, 128),\n",
    "            nn.ReLU(),\n",
    "            nn.Dropout(0.1),\n",
    "            nn.Linear(128, 256),\n",
    "        )\n",
    "\n",
    "\n",
    "        self.fe = nn.Sequential(\n",
    "            nn.ReLU(),\n",
    "            nn.Dropout(0.1),\n",
    "            nn.Linear(256, 128),\n",
    "            nn.ReLU(),\n",
    "            nn.Dropout(0.1),\n",
    "            nn.Linear(128, 64),\n",
    "            nn.ReLU(),\n",
    "            nn.Dropout(0.1),\n",
    "            nn.Linear(64, a_space),\n",
    "            nn.LogSoftmax(dim=-1)\n",
    "        )\n",
    "\n",
    "    def forward(self, x, h):\n",
    "        hidden = self.fc(x) + self.hf(h)\n",
    "        return self.fe(hidden)\n",
    "\n",
    "\n",
    "\n",
    "print(f'Train: {len(train_dataset)}, Test: {len(test_dataset)}')\n",
    "\n",
    "b = Board3(walk_time=500)\n",
    "x = to_emb(b)\n",
    "\n",
    "fp = FP(x.shape[1], ActionController(b).get_action_space())\n",
    "\n",
    "crit = nn.NLLLoss()\n",
    "opt = optim.AdamW(fp.parameters(), lr=0.001)\n",
    "\n",
    "lh = []\n",
    "th = []\n",
    "for e in tqdm(range(400)):\n",
    "    el = []\n",
    "    fp.train()\n",
    "    for b, h, a in DataLoader(train_dataset, batch_size=32, shuffle=True):\n",
    "        opt.zero_grad()\n",
    "        y = fp(b, h)\n",
    "        l = crit(y, a)\n",
    "        l.backward()\n",
    "        opt.step()\n",
    "        el.append(l.item())\n",
    "    lh.append(sum(el) / len(el))\n",
    "\n",
    "    if e % 10 == 0:\n",
    "        th.append(eval_fc(test_dataset))\n",
    "\n",
    "\n",
    "\n",
    "\n",
    "# plot loss history and test history side by side\n",
    "fig, ax = plt.subplots(1, 2, figsize=(10, 5))\n",
    "ax[0].plot(lh)\n",
    "\n",
    "ax[0].set_title('Loss History')\n",
    "\n",
    "\n",
    "for l in zip(*th):\n",
    "    ax[1].plot(l)\n",
    "\n",
    "    for i in range(0, len(l), 20):\n",
    "        ax[1].text(i, l[i], f'{l[i]:.2f}')\n",
    "\n",
    "    ax[1].text(len(l) - 1, l[-1], f'{l[-1]:.2f}')\n",
    "\n",
    "ax[1].set_title('Test History')\n",
    "ax[1].legend(['0', '1', '2', '3'])\n",
    "plt.show()\n",
    "\n",
    "\n",
    "print(f'Lowers loss: {min(lh):.2f}.', ' '.join([f'{max(l):.2f}' for l in zip(*th)]))\n"
   ],
   "id": "955ec3dc62833065",
   "outputs": [
    {
     "name": "stdout",
     "output_type": "stream",
     "text": [
      "Train: 2002, Test: 100\n"
     ]
    },
    {
     "data": {
      "text/plain": [
       "  0%|          | 0/400 [00:00<?, ?it/s]"
      ],
      "application/vnd.jupyter.widget-view+json": {
       "version_major": 2,
       "version_minor": 0,
       "model_id": "c6b716b798944081930e3b0bfb1f072f"
      }
     },
     "metadata": {},
     "output_type": "display_data"
    },
    {
     "data": {
      "text/plain": [
       "<Figure size 1000x500 with 2 Axes>"
      ],
      "image/png": "[encoded data removed]"
     },
     "metadata": {},
     "output_type": "display_data"
    },
    {
     "name": "stdout",
     "output_type": "stream",
     "text": [
      "Lowers loss: 0.05. 0.86 0.00 0.00 0.00\n"
     ]
    }
   ],
   "execution_count": 22
  },
  {
   "metadata": {},
   "cell_type": "code",
   "outputs": [],
   "execution_count": null,
   "source": "",
   "id": "e343cfb9a16de797"
  }
 ],
 "metadata": {
  "kernelspec": {
   "display_name": "Python 3",
   "language": "python",
   "name": "python3"
  },
  "language_info": {
   "codemirror_mode": {
    "name": "ipython",
    "version": 2
   },
   "file_extension": ".py",
   "mimetype": "text/x-python",
   "name": "python",
   "nbconvert_exporter": "python",
   "pygments_lexer": "ipython2",
   "version": "2.7.6"
  }
 },
 "nbformat": 4,
 "nbformat_minor": 5
}
