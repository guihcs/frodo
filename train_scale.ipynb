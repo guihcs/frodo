{
 "cells": [
  {
   "cell_type": "code",
   "id": "initial_id",
   "metadata": {
    "collapsed": true,
    "ExecuteTime": {
     "end_time": "2025-02-19T10:06:59.504337Z",
     "start_time": "2025-02-19T10:06:55.361759Z"
    }
   },
   "source": [
    "%cd /home/gsantoss/frodo\n",
    "\n",
    "from board3 import Board3, sqr_distance\n",
    "from controller3 import ActionController, MW_CELLS\n",
    "import time\n",
    "from heapq import heappush, heappop\n",
    "from tqdm.auto import tqdm\n",
    "import random\n",
    "import torch\n",
    "import torch.nn as nn\n",
    "import torch.optim as optim\n",
    "from torch.utils.data import DataLoader, TensorDataset\n",
    "import matplotlib.pyplot as plt\n",
    "import concurrent.futures\n",
    "import math\n",
    "from collections import Counter, deque\n",
    "from mcts import search\n",
    "from nnl import to_emb, gather_history\n",
    "import pickle\n",
    "from torch.distributions.categorical import Categorical\n",
    "import concurrent.futures\n"
   ],
   "outputs": [
    {
     "name": "stderr",
     "output_type": "stream",
     "text": [
      "/projects/melodi/gsantoss/miniconda3/envs/myenv/lib/python3.11/site-packages/IPython/core/magics/osm.py:417: UserWarning: using dhist requires you to install the `pickleshare` library.\n",
      "  self.shell.db['dhist'] = compress_dhist(dhist)[-100:]\n"
     ]
    },
    {
     "name": "stdout",
     "output_type": "stream",
     "text": [
      "/home/gsantoss/frodo\n"
     ]
    }
   ],
   "execution_count": 1
  },
  {
   "metadata": {
    "ExecuteTime": {
     "end_time": "2025-02-19T10:07:00.560803Z",
     "start_time": "2025-02-19T10:07:00.541913Z"
    }
   },
   "cell_type": "code",
   "source": [
    "\n",
    "def simulate_board(walk_time=200, time_step=500, max_iterations=100000, history_len=10):\n",
    "    board = Board3(walk_time=walk_time)\n",
    "    mwc = random.choice([0, 1, 2, 3])\n",
    "    for _ in range(mwc):\n",
    "        available = list((set(MW_CELLS) - {board.get_player_position(),\n",
    "                                            board.get_enemy_position(),\n",
    "                                            board.get_todd_position()}).union(board.mw))\n",
    "        cl = random.choice(available)\n",
    "        board.add_mw(*cl)\n",
    "\n",
    "    path = search(board, max_iterations, time_step=time_step)\n",
    "    if path is not None:\n",
    "        return gather_history(path, c=history_len)\n",
    "    return []\n",
    "\n",
    "# Total number of moves (or data points) we want to collect.\n",
    "def gen_data(n, w=8):\n",
    "    data = []\n",
    "    progress = tqdm(total=n)\n",
    "\n",
    "    # Use a ProcessPoolExecutor to run simulations in parallel.\n",
    "    with concurrent.futures.ProcessPoolExecutor() as executor:\n",
    "        futures = set()\n",
    "        # Pre-submit an initial batch of tasks (one per worker).\n",
    "        for _ in range(w):\n",
    "            futures.add(executor.submit(simulate_board))\n",
    "\n",
    "        # Keep collecting simulation results until we have enough data.\n",
    "        while len(data) < n:\n",
    "            # Wait until at least one future is completed.\n",
    "            done, futures = concurrent.futures.wait(futures, return_when=concurrent.futures.FIRST_COMPLETED)\n",
    "            for fut in done:\n",
    "                result = fut.result()\n",
    "                if result:\n",
    "                    data.extend(result)\n",
    "                    progress.update(len(result))\n",
    "                # Submit a new simulation to keep the pool busy.\n",
    "                futures.add(executor.submit(simulate_board))\n",
    "                # Break early if we have reached the desired amount.\n",
    "                if len(data) >= n:\n",
    "                    break\n",
    "\n",
    "    progress.close()\n",
    "\n",
    "    boards = []\n",
    "    histories = []\n",
    "    actions = []\n",
    "\n",
    "    for h in data:\n",
    "        hl = []\n",
    "        for b, a in h[:-1]:\n",
    "            board_embedding = to_emb(b)\n",
    "            action_embedding = nn.functional.one_hot(torch.LongTensor([a]), ActionController(b).get_action_space())\n",
    "            hl.append(torch.cat([board_embedding, action_embedding], dim=1))\n",
    "        hl = torch.cat(hl, dim=0).unsqueeze(0)\n",
    "        be = to_emb(h[-1][0])\n",
    "        boards.append(be)\n",
    "        histories.append(hl)\n",
    "        actions.append(h[-1][1])\n",
    "\n",
    "    boards = torch.cat(boards, dim=0)\n",
    "    histories = torch.cat(histories, dim=0)\n",
    "    actions = torch.LongTensor(actions)\n",
    "    return TensorDataset(boards, histories, actions)\n",
    "\n"
   ],
   "id": "10e1392c02540f87",
   "outputs": [],
   "execution_count": 2
  },
  {
   "metadata": {
    "ExecuteTime": {
     "end_time": "2025-02-19T10:07:02.633522Z",
     "start_time": "2025-02-19T10:07:02.627370Z"
    }
   },
   "cell_type": "code",
   "source": [
    "# train_dataset = gen_data(24000, w=24)\n",
    "#\n",
    "# with open('/projects/melodi/gsantoss/tmp/data.pkl', 'wb') as f:\n",
    "#     pickle.dump(train_dataset, f)"
   ],
   "id": "dca826f481b3443a",
   "outputs": [],
   "execution_count": 3
  },
  {
   "metadata": {
    "ExecuteTime": {
     "end_time": "2025-02-19T10:07:03.395511Z",
     "start_time": "2025-02-19T10:07:03.264307Z"
    }
   },
   "cell_type": "code",
   "source": [
    "with open('/projects/melodi/gsantoss/tmp/data.pkl', 'rb') as f:\n",
    "    train_dataset = pickle.load(f)"
   ],
   "id": "33f5d505f8a27907",
   "outputs": [],
   "execution_count": 4
  },
  {
   "metadata": {
    "ExecuteTime": {
     "end_time": "2025-02-19T10:07:03.970899Z",
     "start_time": "2025-02-19T10:07:03.964768Z"
    }
   },
   "cell_type": "code",
   "source": [
    "# test_dataset = gen_data(1000, w=24)\n",
    "#\n",
    "# with open('/projects/melodi/gsantoss/tmp/test_data.pkl', 'wb') as f:\n",
    "#     pickle.dump(test_dataset, f)"
   ],
   "id": "29a3baa3ee04ed7b",
   "outputs": [],
   "execution_count": 5
  },
  {
   "metadata": {
    "ExecuteTime": {
     "end_time": "2025-02-19T10:07:04.621018Z",
     "start_time": "2025-02-19T10:07:04.599681Z"
    }
   },
   "cell_type": "code",
   "source": [
    "with open('/projects/melodi/gsantoss/tmp/test_data.pkl', 'rb') as f:\n",
    "    test_dataset = pickle.load(f)"
   ],
   "id": "505d29621e7f7e73",
   "outputs": [],
   "execution_count": 6
  },
  {
   "metadata": {
    "ExecuteTime": {
     "end_time": "2025-02-19T10:07:05.874497Z",
     "start_time": "2025-02-19T10:07:05.861139Z"
    }
   },
   "cell_type": "code",
   "source": [
    "def eval_fc(dataset):\n",
    "    mc = torch.zeros(4)\n",
    "    mv = torch.zeros(4)\n",
    "    fp.eval()\n",
    "    correct = 0\n",
    "    for b, h, a in DataLoader(dataset, batch_size=32):\n",
    "        mc[torch.sum(b[:, 6:] > 0, dim=1)] += len(b)\n",
    "        with torch.no_grad():\n",
    "            y = fp(b.cuda(0), h.cuda(0)).exp().cpu()\n",
    "        mv[torch.sum(b[:, 6:] > 0, dim=1)] += (y.argmax(dim=-1) == a).sum()\n",
    "    mc[mc == 0] = 1\n",
    "    return mv / mc"
   ],
   "id": "81c7f79e16733cc5",
   "outputs": [],
   "execution_count": 7
  },
  {
   "metadata": {
    "ExecuteTime": {
     "end_time": "2025-02-19T10:29:05.798791Z",
     "start_time": "2025-02-19T10:10:39.979120Z"
    }
   },
   "cell_type": "code",
   "source": [
    "def pos_encode(max_len, d_model):\n",
    "    position = torch.arange(max_len).unsqueeze(1)\n",
    "    div_term = torch.exp(torch.arange(0, d_model, 2) * (-math.log(10000.0) / d_model)).unsqueeze(0)\n",
    "    pe = torch.zeros(max_len, d_model)\n",
    "    pe[:, 0::2] = torch.sin(position * div_term)\n",
    "    pe[:, 1::2] = torch.cos(position * div_term)\n",
    "    return pe\n",
    "\n",
    "\n",
    "class FP(nn.Module):\n",
    "    def __init__(self, n_dim, a_space, m_space, e_dim=384, ff_dim=1024, n_layers=4, n_heads=12, max_len=15):\n",
    "        super(FP, self).__init__()\n",
    "\n",
    "\n",
    "\n",
    "        self.fl = nn.Sequential(\n",
    "            nn.Linear(n_dim, 64),\n",
    "            nn.ReLU(),\n",
    "            nn.Dropout(0.1),\n",
    "            nn.Linear(64, e_dim),\n",
    "            nn.ReLU(),\n",
    "            nn.Dropout(0.1),\n",
    "        )\n",
    "\n",
    "        self.fh = nn.Sequential(\n",
    "            nn.Linear(m_space, 64),\n",
    "            nn.ReLU(),\n",
    "            nn.Dropout(0.1),\n",
    "            nn.Linear(64, e_dim),\n",
    "            nn.ReLU(),\n",
    "            nn.Dropout(0.1),\n",
    "        )\n",
    "\n",
    "        self.dec_l = nn.TransformerDecoderLayer(d_model=e_dim, nhead=n_heads, dim_feedforward=ff_dim, batch_first=True)\n",
    "        self.dec = nn.TransformerDecoder(self.dec_l, num_layers=n_layers)\n",
    "\n",
    "        self.pe = pos_encode(max_len, e_dim)\n",
    "\n",
    "        self.fc = nn.Sequential(\n",
    "            nn.Linear(e_dim, 64),\n",
    "            nn.ReLU(),\n",
    "            nn.Dropout(0.1),\n",
    "            nn.Linear(64, a_space),\n",
    "            nn.LogSoftmax(dim=-1)\n",
    "        )\n",
    "\n",
    "    def forward(self, x, h):\n",
    "        nx = self.fl(x)\n",
    "        nh = self.fh(h) + self.pe[:h.shape[1], :].unsqueeze(0).to(h.device)\n",
    "        # mask = torch.ones((nx.shape[1], nh.shape[1]))\n",
    "        # mask = torch.triu(mask, diagonal=1).bool().to(x.device)\n",
    "        hidden = self.dec(nx.unsqueeze(1), nh).mean(dim=1)\n",
    "        return self.fc(hidden)\n",
    "\n",
    "\n",
    "\n",
    "print(f'Train: {len(train_dataset)}, Test: {len(test_dataset)}')\n",
    "\n",
    "b = Board3(walk_time=200)\n",
    "x = to_emb(b)\n",
    "\n",
    "\n",
    "hl = []\n",
    "for b, a in [(b, 0), (b, 0)]:\n",
    "    board_embedding = to_emb(b)\n",
    "    action_embedding = nn.functional.one_hot(torch.LongTensor([a]), ActionController(b).get_action_space())\n",
    "    hl.append(torch.cat([board_embedding, action_embedding], dim=1))\n",
    "hl = torch.cat(hl, dim=0).unsqueeze(0)\n",
    "\n",
    "fp = FP(x.shape[1], ActionController(b).get_action_space(), hl.shape[-1])\n",
    "nfp = nn.DataParallel(fp)\n",
    "nfp.cuda(0)\n",
    "crit = nn.NLLLoss()\n",
    "opt = optim.AdamW(fp.parameters(), lr=0.001)\n",
    "\n",
    "lh = []\n",
    "th = []\n",
    "mx_ev = 0\n",
    "for e in tqdm(range(1000)):\n",
    "    el = []\n",
    "    fp.train()\n",
    "    for b, h, a in DataLoader(train_dataset, batch_size=4096, shuffle=True):\n",
    "        opt.zero_grad()\n",
    "        y = nfp(b.cuda(0), h.cuda(0))\n",
    "        l = crit(y, a.cuda(0))\n",
    "        l.backward()\n",
    "        opt.step()\n",
    "        el.append(l.item())\n",
    "    lh.append(sum(el) / len(el))\n",
    "\n",
    "    if e % 80 == 0:\n",
    "        ev = eval_fc(test_dataset)\n",
    "        if ev[0].item() > mx_ev:\n",
    "            torch.save(fp.state_dict(), 'fp.pth')\n",
    "        th.append(ev)\n",
    "\n",
    "\n",
    "\n",
    "\n",
    "# plot loss history and test history side by side\n",
    "fig, ax = plt.subplots(1, 2, figsize=(10, 5))\n",
    "ax[0].plot(lh)\n",
    "\n",
    "ax[0].set_title('Loss History')\n",
    "\n",
    "\n",
    "for l in zip(*th):\n",
    "    ax[1].plot(l)\n",
    "\n",
    "    for i in range(0, len(l), 20):\n",
    "        ax[1].text(i, l[i], f'{l[i]:.2f}')\n",
    "\n",
    "    ax[1].text(len(l) - 1, l[-1], f'{l[-1]:.2f}')\n",
    "\n",
    "ax[1].set_title('Test History')\n",
    "ax[1].legend(['0', '1', '2', '3'])\n",
    "plt.show()\n",
    "\n",
    "\n",
    "print(f'Lowers loss: {min(lh):.2f}.', ' '.join([f'{max(l):.2f}' for l in zip(*th)]))\n"
   ],
   "id": "955ec3dc62833065",
   "outputs": [
    {
     "name": "stdout",
     "output_type": "stream",
     "text": [
      "Train: 24004, Test: 1000\n"
     ]
    },
    {
     "data": {
      "text/plain": [
       "  0%|          | 0/1000 [00:00<?, ?it/s]"
      ],
      "application/vnd.jupyter.widget-view+json": {
       "version_major": 2,
       "version_minor": 0,
       "model_id": "e4e891de522345388147e47c2497696e"
      }
     },
     "metadata": {},
     "output_type": "display_data"
    },
    {
     "name": "stderr",
     "output_type": "stream",
     "text": [
      "/projects/melodi/gsantoss/miniconda3/envs/myenv/lib/python3.11/site-packages/torch/nn/modules/linear.py:117: UserWarning: Attempting to run cuBLAS, but there was no current CUDA context! Attempting to set the primary context... (Triggered internally at ../aten/src/ATen/cuda/CublasHandlePool.cpp:135.)\n",
      "  return F.linear(input, self.weight, self.bias)\n"
     ]
    },
    {
     "data": {
      "text/plain": [
       "<Figure size 1000x500 with 2 Axes>"
      ],
      "image/png": "[encoded data removed]"
     },
     "metadata": {},
     "output_type": "display_data"
    },
    {
     "name": "stdout",
     "output_type": "stream",
     "text": [
      "Lowers loss: 0.05. 0.88 0.88 0.88 0.84\n"
     ]
    }
   ],
   "execution_count": 8
  },
  {
   "metadata": {
    "ExecuteTime": {
     "end_time": "2025-02-18T22:08:13.629780994Z",
     "start_time": "2025-02-18T19:33:58.501145Z"
    }
   },
   "cell_type": "code",
   "source": "torch.save(fp.state_dict(), '/projects/melodi/gsantoss/tmp/fp.pth')",
   "id": "5ab93edcc63bb9a3",
   "outputs": [],
   "execution_count": 22
  },
  {
   "metadata": {
    "ExecuteTime": {
     "end_time": "2025-02-19T10:30:20.328996Z",
     "start_time": "2025-02-19T10:30:20.158283Z"
    }
   },
   "cell_type": "code",
   "source": [
    "# board = Board3(walk_time=1000)\n",
    "#\n",
    "# board.players_positions = [(3, 0), (1, 0), (3, 3)]\n",
    "# print(board)\n",
    "fp.cpu()\n",
    "board = Board3(walk_time=200)\n",
    "board.set_player(1, 0)\n",
    "board.set_enemy(2, 0)\n",
    "board.set_todd(1, 2)\n",
    "board.player_throw_mw(2, 1)\n",
    "# board.swap_enemy()\n",
    "board.step(500)\n",
    "print(board)\n",
    "fp.eval()\n",
    "hl = []\n",
    "for b, a in [(board, 0)] * 10:\n",
    "    board_embedding = to_emb(b)\n",
    "    action_embedding = nn.functional.one_hot(torch.LongTensor([a]), ActionController(b).get_action_space())\n",
    "    hl.append(torch.cat([board_embedding, action_embedding], dim=1))\n",
    "hl = torch.cat(hl, dim=0).unsqueeze(0)\n",
    "\n",
    "with torch.no_grad():\n",
    "    st = time.time()\n",
    "    y = fp(to_emb(board), hl)\n",
    "    print(f'Time: {time.time() - st:.4f}')\n",
    "    print(ActionController.explain_action(y.exp().argmax().item()))\n",
    "    plt.bar(range(y.shape[1]), y.exp().squeeze(0))\n",
    "    plt.show()"
   ],
   "id": "d51252e0c92427ee",
   "outputs": [
    {
     "name": "stdout",
     "output_type": "stream",
     "text": [
      "\u001B[97m.\u001B[0m  \u001B[33m%\u001B[0m  \u001B[97m.\u001B[0m  \u001B[33m%\u001B[0m\n",
      "\u001B[32mP\u001B[0m  \u001B[33m%\u001B[0m  \u001B[97mT\u001B[0m  \u001B[33m%\u001B[0m\n",
      "\u001B[31mE\u001B[0m  \u001B[34m#\u001B[0m  \u001B[97m.\u001B[0m  \u001B[97m.\u001B[0m\n",
      "\u001B[97m.\u001B[0m  \u001B[97m.\u001B[0m  \u001B[97m.\u001B[0m  \u001B[97m.\u001B[0m\n",
      "Time: 0.0280\n",
      "Push E 3 1\n"
     ]
    },
    {
     "data": {
      "text/plain": [
       "<Figure size 640x480 with 1 Axes>"
      ],
      "image/png": "[encoded data removed]"
     },
     "metadata": {},
     "output_type": "display_data"
    }
   ],
   "execution_count": 10
  },
  {
   "metadata": {
    "ExecuteTime": {
     "end_time": "2025-02-18T23:23:47.916442Z",
     "start_time": "2025-02-18T23:23:47.249826Z"
    }
   },
   "cell_type": "code",
   "source": [
    "def emb_mem(mem):\n",
    "    hl = []\n",
    "    for b, a in mem:\n",
    "        board_embedding = to_emb(b)\n",
    "        action_embedding = nn.functional.one_hot(torch.LongTensor([a]), ActionController(b).get_action_space())\n",
    "        hl.append(torch.cat([board_embedding, action_embedding], dim=1))\n",
    "    return torch.cat(hl, dim=0).unsqueeze(0)\n",
    "\n",
    "\n",
    "\n",
    "def play(fp, runs=100, step=1600, best_action=False, mem_len=2):\n",
    "    fp.eval()\n",
    "\n",
    "    b = Board3()\n",
    "    mem = deque([(b, 0)] * mem_len, maxlen=mem_len)\n",
    "    controller = ActionController(b)\n",
    "    h = []\n",
    "\n",
    "    for _ in range(runs):\n",
    "\n",
    "        with torch.no_grad():\n",
    "            o = fp(to_emb(b), emb_mem(mem))\n",
    "            if not best_action:\n",
    "                c = Categorical(o.exp())\n",
    "                a = c.sample()\n",
    "                h.append((b.copy(), list(mem), c.log_prob(a), a))\n",
    "                mem.append((b.copy(), a.item()))\n",
    "\n",
    "            else:\n",
    "                a = o.exp().argmax().item()\n",
    "\n",
    "        controller.execute_action(a)\n",
    "        b.step(step)\n",
    "\n",
    "        if controller.is_win():\n",
    "            return h, 1\n",
    "        if controller.is_block():\n",
    "            return h, -1\n",
    "        if controller.is_lose():\n",
    "            return h, -1\n",
    "\n",
    "    return h, -0.2\n",
    "\n",
    "def test_fp(fp, n=40, runs=100, step=1600, mem_len=2):\n",
    "    wins = 0\n",
    "    draw = 0\n",
    "    lose = 0\n",
    "\n",
    "    for _ in range(n):\n",
    "        h, r = play(fp, runs=runs, step=step, best_action=True, mem_len=mem_len)\n",
    "        if r == 1:\n",
    "            wins += 1\n",
    "        elif r == -0.2:\n",
    "            draw += 1\n",
    "        else:\n",
    "            lose += 1\n",
    "\n",
    "    return wins / n, draw / n, lose / n\n",
    "\n",
    "\n",
    "test_fp(fp)"
   ],
   "id": "33d75f1c0589a93e",
   "outputs": [
    {
     "data": {
      "text/plain": [
       "(0.975, 0.025, 0.0)"
      ]
     },
     "execution_count": 11,
     "metadata": {},
     "output_type": "execute_result"
    }
   ],
   "execution_count": 11
  },
  {
   "metadata": {
    "ExecuteTime": {
     "end_time": "2025-02-18T23:25:10.063053Z",
     "start_time": "2025-02-18T23:24:31.482002Z"
    }
   },
   "cell_type": "code",
   "source": [
    "def n_search(fp, board, mem_len=3, max_iterations=100, time_step=1000):\n",
    "    fp.eval()\n",
    "    q = [(0, 0, board, deque([(board, 0)] * mem_len, maxlen=mem_len), [])]\n",
    "    visited = set()\n",
    "\n",
    "    visited.add(board)\n",
    "    for _ in range(max_iterations):\n",
    "\n",
    "        if len(q) == 0:\n",
    "            return None\n",
    "\n",
    "        _, c, b, mem, hist = heappop(q)\n",
    "        ct = ActionController(b)\n",
    "\n",
    "        if ct.is_win():\n",
    "            path = []\n",
    "            for b, a in hist:\n",
    "                path.append((b, a))\n",
    "            return path\n",
    "\n",
    "        elif ct.is_lose() or ct.is_block():\n",
    "            continue\n",
    "\n",
    "        with torch.no_grad():\n",
    "            o = fp(to_emb(b), emb_mem(mem)).exp().squeeze(0)\n",
    "\n",
    "\n",
    "        for a in ct.get_available_moves():\n",
    "            nm = deque(mem, maxlen=mem_len)\n",
    "            nm.append((b.copy(), a))\n",
    "\n",
    "            b2 = b.copy()\n",
    "            ct2 = ActionController(b2)\n",
    "            ct2.execute_action(a)\n",
    "            b2.step(time_step)\n",
    "\n",
    "            if b2 in visited:\n",
    "                continue\n",
    "\n",
    "            visited.add(b2)\n",
    "            qc = c + 1\n",
    "            # if a == 0:\n",
    "            #     qc += 1\n",
    "            #\n",
    "            # if a >= ct2.get_mw_range()[0]:\n",
    "            #     qc += 1\n",
    "            #\n",
    "            # pc = min(sqr_distance(*b2.get_enemy_position(), 0, 0), sqr_distance(*b2.get_enemy_position(), 0, 2))\n",
    "            heappush(q, (qc + o[a].item(), qc, b2, nm, hist + [(b, a)]))\n",
    "\n",
    "    return None\n",
    "\n",
    "\n",
    "\n",
    "\n",
    "board = Board3(walk_time=500)\n",
    "board.set_player(1, 0)\n",
    "board.set_enemy(2, 0)\n",
    "board.set_todd(1, 2)\n",
    "board.player_throw_mw(2, 1)\n",
    "# board.swap_enemy()\n",
    "board.step(2000)\n",
    "\n",
    "# board.swap_enemy()\n",
    "print(board)\n",
    "\n",
    "\n",
    "\n",
    "\n",
    "start = time.time()\n",
    "path = n_search(fp, board, mem_len=10, max_iterations=10000, time_step=500)\n",
    "if path:\n",
    "    print(len(path))\n",
    "print(f'Time: {time.time() - start}')"
   ],
   "id": "d2977316a19cda0c",
   "outputs": [
    {
     "name": "stdout",
     "output_type": "stream",
     "text": [
      "\u001B[97m.\u001B[0m  \u001B[33m%\u001B[0m  \u001B[97m.\u001B[0m  \u001B[33m%\u001B[0m\n",
      "\u001B[32mP\u001B[0m  \u001B[33m%\u001B[0m  \u001B[97mT\u001B[0m  \u001B[33m%\u001B[0m\n",
      "\u001B[31mE\u001B[0m  \u001B[34m#\u001B[0m  \u001B[97m.\u001B[0m  \u001B[97m.\u001B[0m\n",
      "\u001B[97m.\u001B[0m  \u001B[97m.\u001B[0m  \u001B[97m.\u001B[0m  \u001B[97m.\u001B[0m\n",
      "Time: 38.56190323829651\n"
     ]
    }
   ],
   "execution_count": 15
  },
  {
   "metadata": {
    "ExecuteTime": {
     "end_time": "2025-02-18T22:08:13.631737869Z",
     "start_time": "2025-02-18T00:14:58.313298Z"
    }
   },
   "cell_type": "code",
   "source": "ActionController.explain_action(18)",
   "id": "561919a2ac4dd5fc",
   "outputs": [
    {
     "data": {
      "text/plain": [
       "'Push E 3 1'"
      ]
     },
     "execution_count": 39,
     "metadata": {},
     "output_type": "execute_result"
    }
   ],
   "execution_count": 39
  }
 ],
 "metadata": {
  "kernelspec": {
   "display_name": "Python (myenv)",
   "language": "python",
   "name": "myenv"
  },
  "language_info": {
   "codemirror_mode": {
    "name": "ipython",
    "version": 2
   },
   "file_extension": ".py",
   "mimetype": "text/x-python",
   "name": "python",
   "nbconvert_exporter": "python",
   "pygments_lexer": "ipython2",
   "version": "2.7.6"
  }
 },
 "nbformat": 4,
 "nbformat_minor": 5
}
