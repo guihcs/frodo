{
 "cells": [
  {
   "metadata": {
    "ExecuteTime": {
     "end_time": "2025-04-19T00:17:38.773497Z",
     "start_time": "2025-04-19T00:17:36.623046Z"
    }
   },
   "cell_type": "code",
   "source": [
    "from board3 import Board3\n",
    "from controller3 import ActionController\n",
    "\n",
    "import random\n",
    "\n",
    "import torch\n",
    "import torch.nn as nn\n",
    "import torch.optim as optim\n",
    "\n",
    "from torch.utils.data import DataLoader, TensorDataset\n",
    "from nnl import to_emb\n",
    "\n",
    "import matplotlib.pyplot as plt\n",
    "\n",
    "from tqdm.auto import tqdm"
   ],
   "id": "882225dd2282e90a",
   "outputs": [],
   "execution_count": 1
  },
  {
   "metadata": {
    "ExecuteTime": {
     "end_time": "2025-04-19T00:17:38.789903Z",
     "start_time": "2025-04-19T00:17:38.783310Z"
    }
   },
   "cell_type": "code",
   "source": [
    "def step(b, a, time=1600):\n",
    "    bc = b.copy()\n",
    "    nc = ActionController(bc)\n",
    "\n",
    "    nc.execute_action(a)\n",
    "    bc.step(time)\n",
    "\n",
    "    reward = 0\n",
    "    end = False\n",
    "    if nc.is_win():\n",
    "        reward = 1\n",
    "        end = True\n",
    "    elif nc.is_lose():\n",
    "        reward = -1\n",
    "        end = True\n",
    "    elif nc.is_block():\n",
    "        reward = -1\n",
    "        end = True\n",
    "\n",
    "    return bc, reward, end\n",
    "\n",
    "def eval_net(net, n = 100, time_step=1600):\n",
    "    net.eval()\n",
    "    wins = 0\n",
    "    loses = 0\n",
    "    draws = 0\n",
    "\n",
    "    for _ in range(n):\n",
    "        b = Board3(walk_time=1000, walk_frodo=False)\n",
    "\n",
    "        for _ in range(100):\n",
    "            with torch.no_grad():\n",
    "                vl = net(to_emb(b))\n",
    "\n",
    "            act = vl.argmax().item()\n",
    "            bc = b.copy()\n",
    "            nc = ActionController(bc)\n",
    "\n",
    "            nc.execute_action(act)\n",
    "            bc.step(time_step)\n",
    "\n",
    "            if nc.is_win():\n",
    "                wins += 1\n",
    "                break\n",
    "            elif nc.is_lose():\n",
    "                loses += 1\n",
    "                break\n",
    "            elif nc.is_block():\n",
    "                loses += 1\n",
    "                break\n",
    "        else:\n",
    "            draws += 1\n",
    "\n",
    "    return wins / n, draws / n, loses / n\n",
    "\n",
    "\n",
    "def eval_d(d, n = 100, time_step=1600):\n",
    "    net.eval()\n",
    "    wins = 0\n",
    "    loses = 0\n",
    "    draws = 0\n",
    "\n",
    "    for _ in range(n):\n",
    "        b = Board3(walk_time=1000, walk_frodo=False)\n",
    "\n",
    "        for _ in range(100):\n",
    "\n",
    "            act = max(range(ActionController.get_action_space()), key=lambda x: d[b][x])\n",
    "            bc = b.copy()\n",
    "            nc = ActionController(bc)\n",
    "\n",
    "            nc.execute_action(act)\n",
    "            bc.step(time_step)\n",
    "\n",
    "            if nc.is_win():\n",
    "                wins += 1\n",
    "                break\n",
    "            elif nc.is_lose():\n",
    "                loses += 1\n",
    "                break\n",
    "            elif nc.is_block():\n",
    "                loses += 1\n",
    "                break\n",
    "        else:\n",
    "            draws += 1\n",
    "\n",
    "    return wins / n, draws / n, loses / n"
   ],
   "id": "6acbbf884bd3db47",
   "outputs": [],
   "execution_count": 2
  },
  {
   "metadata": {
    "ExecuteTime": {
     "end_time": "2025-04-19T00:20:47.392356Z",
     "start_time": "2025-04-19T00:17:44.869004Z"
    }
   },
   "cell_type": "code",
   "source": [
    "d = {}\n",
    "epochs = 100000\n",
    "for e in tqdm(range(epochs)):\n",
    "\n",
    "    eps = min(0.8, 1 - e / epochs)\n",
    "\n",
    "    b = Board3(walk_time=1000, walk_frodo=False)\n",
    "\n",
    "    for _ in range(100):\n",
    "        if b not in d:\n",
    "            d[b] = [0.0 for _ in range(ActionController.get_action_space())]\n",
    "\n",
    "        if random.random() < eps:\n",
    "            act = random.randint(0, ActionController.get_action_space() - 1)\n",
    "        else:\n",
    "            act = max(range(ActionController.get_action_space()), key=lambda x: d[b][x])\n",
    "\n",
    "        bc, reward, end = step(b, act, 1600)\n",
    "\n",
    "        if end:\n",
    "            nt = reward\n",
    "        else:\n",
    "            if bc not in d:\n",
    "                d[bc] = [0.0 for _ in range(ActionController.get_action_space())]\n",
    "            nt = reward + 0.9 * max(d[bc])\n",
    "\n",
    "        d[b][act] = d[b][act] + 0.1 * (nt - d[b][act])\n",
    "\n",
    "        if end:\n",
    "            break\n",
    "        b = bc\n",
    "\n",
    "\n"
   ],
   "id": "aba604ffbe1e3d1a",
   "outputs": [
    {
     "data": {
      "text/plain": [
       "  0%|          | 0/100000 [00:00<?, ?it/s]"
      ],
      "application/vnd.jupyter.widget-view+json": {
       "version_major": 2,
       "version_minor": 0,
       "model_id": "ccc943a8f6524e5c9fda6c7ca4412bd0"
      }
     },
     "metadata": {},
     "output_type": "display_data"
    }
   ],
   "execution_count": 3
  },
  {
   "metadata": {
    "ExecuteTime": {
     "end_time": "2025-04-19T00:20:51.913068Z",
     "start_time": "2025-04-19T00:20:51.909047Z"
    }
   },
   "cell_type": "code",
   "source": [
    "print(len(d))\n",
    "b = Board3(walk_time=1000, walk_frodo=False)\n",
    "b.players_positions = [(2, 1), (0, 0), (3, 3)]\n",
    "print(b)\n",
    "print(d[b])\n",
    "print(ActionController.explain_action(max(range(ActionController.get_action_space()), key=lambda x: d[b][x])))"
   ],
   "id": "116003b51326582c",
   "outputs": [
    {
     "name": "stdout",
     "output_type": "stream",
     "text": [
      "1173126\n",
      "\u001B[31mE\u001B[0m  \u001B[33m%\u001B[0m  \u001B[97m.\u001B[0m  \u001B[33m%\u001B[0m\n",
      "\u001B[97m.\u001B[0m  \u001B[33m%\u001B[0m  \u001B[97m.\u001B[0m  \u001B[33m%\u001B[0m\n",
      "\u001B[97m.\u001B[0m  \u001B[32mP\u001B[0m  \u001B[97m.\u001B[0m  \u001B[97m.\u001B[0m\n",
      "\u001B[97m.\u001B[0m  \u001B[97m.\u001B[0m  \u001B[97m.\u001B[0m  \u001B[97mT\u001B[0m\n",
      "[0.5902683764263933, 0.5425962506786192, 0.6687092647359166, 0.6275761470612395, 0.5811791016283341, 0.7325821394630192, 0.3377980966516734, 0.899999999999999, 0.7451792716605272, 0.02215369751194752, 0.034528495235954304, 0.01763758017393626, 0.014537685704157147, 0.02058024429289468, 0.04890368346226694, 0.05033923633601084, 0.03312494032692697, 0.054830245901409204, 0.028124318708347692, 0.01407820380041701, 0.025104044601782362, 0.7257766268579254, 0.776717437224298, 0.6034856507948609, 0.4783690346872167, 0.6874247310745855, 0.6539568453610957, 0.7106195234659124, 0.7941088679053511, -0.7941088679053511, 0.0018471359121115946, 0.21260497273896162, 0.0, 0.0, 0.0008100000000000002, 0.0, 0.0, 0.14882505369712423]\n",
      "Move 1 -1\n"
     ]
    }
   ],
   "execution_count": 4
  },
  {
   "metadata": {
    "ExecuteTime": {
     "end_time": "2025-03-06T16:37:11.933090Z",
     "start_time": "2025-03-06T16:36:25.486145Z"
    }
   },
   "cell_type": "code",
   "source": [
    "bds = []\n",
    "vls = []\n",
    "\n",
    "for k, v in tqdm(d.items()):\n",
    "    bds.append(to_emb(k))\n",
    "    vls.append(v)\n",
    "\n",
    "fv = torch.Tensor(vls)\n",
    "fv = (fv - fv.mean()) / (fv.std() + 1e-8)\n",
    "\n",
    "data = TensorDataset(torch.cat(bds, dim=0), fv)"
   ],
   "id": "32df2fbfa65b8afc",
   "outputs": [
    {
     "data": {
      "text/plain": [
       "  0%|          | 0/526168 [00:00<?, ?it/s]"
      ],
      "application/vnd.jupyter.widget-view+json": {
       "version_major": 2,
       "version_minor": 0,
       "model_id": "59c3246984354edf949f350aded4b496"
      }
     },
     "metadata": {},
     "output_type": "display_data"
    }
   ],
   "execution_count": 162
  },
  {
   "metadata": {
    "ExecuteTime": {
     "end_time": "2025-03-06T17:24:09.513241Z",
     "start_time": "2025-03-06T17:24:03.576586Z"
    }
   },
   "cell_type": "code",
   "source": [
    "class Net(nn.Module):\n",
    "    def __init__(self, n_input, n_actions):\n",
    "        super(Net, self).__init__()\n",
    "        self.seq = nn.Sequential(\n",
    "            # nn.BatchNorm1d(n_input),\n",
    "            nn.Linear(n_input, 128),\n",
    "            nn.ReLU(),\n",
    "            nn.Dropout(0.1),\n",
    "            nn.Linear(128, n_actions),\n",
    "            # nn.Tanh()\n",
    "        )\n",
    "\n",
    "    def forward(self, x):\n",
    "        return self.seq(x)\n",
    "\n",
    "net = Net(to_emb(Board3()).shape[1], ActionController.get_action_space())\n",
    "\n",
    "\n",
    "def train_net(net, data, show_progress=False):\n",
    "    opt = optim.Adam(net.parameters(), lr=0.001)\n",
    "    criterion = nn.MSELoss()\n",
    "\n",
    "    lh = []\n",
    "\n",
    "    epochs = 12\n",
    "\n",
    "    if show_progress:\n",
    "        progress = tqdm(total=len(data) * epochs)\n",
    "\n",
    "    for _ in range(epochs):\n",
    "        el = []\n",
    "        for b, v in DataLoader(data, batch_size=32, shuffle=True):\n",
    "            opt.zero_grad()\n",
    "            vl = net(b)\n",
    "            loss = criterion(vl, v)\n",
    "            loss.backward()\n",
    "            opt.step()\n",
    "            el.append(loss.item())\n",
    "            if show_progress:\n",
    "                progress.update(b.shape[0])\n",
    "        lh.append(sum(el) / len(el))\n",
    "\n",
    "    if show_progress:\n",
    "        progress.close()\n",
    "        plt.plot(lh)\n",
    "        plt.show()\n",
    "\n",
    "train_net(net, data, show_progress=True)\n",
    "print(eval_net(net))\n"
   ],
   "id": "19f472560cf02716",
   "outputs": [
    {
     "data": {
      "text/plain": [
       "  0%|          | 0/6314016 [00:00<?, ?it/s]"
      ],
      "application/vnd.jupyter.widget-view+json": {
       "version_major": 2,
       "version_minor": 0,
       "model_id": "04ac49d3ebc94c4a824ce8299fc8b011"
      }
     },
     "metadata": {},
     "output_type": "display_data"
    },
    {
     "ename": "KeyboardInterrupt",
     "evalue": "",
     "output_type": "error",
     "traceback": [
      "\u001B[0;31m---------------------------------------------------------------------------\u001B[0m",
      "\u001B[0;31mKeyboardInterrupt\u001B[0m                         Traceback (most recent call last)",
      "Cell \u001B[0;32mIn[201], line 48\u001B[0m\n\u001B[1;32m     45\u001B[0m         plt\u001B[38;5;241m.\u001B[39mplot(lh)\n\u001B[1;32m     46\u001B[0m         plt\u001B[38;5;241m.\u001B[39mshow()\n\u001B[0;32m---> 48\u001B[0m \u001B[43mtrain_net\u001B[49m\u001B[43m(\u001B[49m\u001B[43mnet\u001B[49m\u001B[43m,\u001B[49m\u001B[43m \u001B[49m\u001B[43mdata\u001B[49m\u001B[43m,\u001B[49m\u001B[43m \u001B[49m\u001B[43mshow_progress\u001B[49m\u001B[38;5;241;43m=\u001B[39;49m\u001B[38;5;28;43;01mTrue\u001B[39;49;00m\u001B[43m)\u001B[49m\n\u001B[1;32m     49\u001B[0m \u001B[38;5;28mprint\u001B[39m(eval_net(net))\n",
      "Cell \u001B[0;32mIn[201], line 32\u001B[0m, in \u001B[0;36mtrain_net\u001B[0;34m(net, data, show_progress)\u001B[0m\n\u001B[1;32m     30\u001B[0m \u001B[38;5;28;01mfor\u001B[39;00m _ \u001B[38;5;129;01min\u001B[39;00m \u001B[38;5;28mrange\u001B[39m(epochs):\n\u001B[1;32m     31\u001B[0m     el \u001B[38;5;241m=\u001B[39m []\n\u001B[0;32m---> 32\u001B[0m \u001B[43m    \u001B[49m\u001B[38;5;28;43;01mfor\u001B[39;49;00m\u001B[43m \u001B[49m\u001B[43mb\u001B[49m\u001B[43m,\u001B[49m\u001B[43m \u001B[49m\u001B[43mv\u001B[49m\u001B[43m \u001B[49m\u001B[38;5;129;43;01min\u001B[39;49;00m\u001B[43m \u001B[49m\u001B[43mDataLoader\u001B[49m\u001B[43m(\u001B[49m\u001B[43mdata\u001B[49m\u001B[43m,\u001B[49m\u001B[43m \u001B[49m\u001B[43mbatch_size\u001B[49m\u001B[38;5;241;43m=\u001B[39;49m\u001B[38;5;241;43m32\u001B[39;49m\u001B[43m,\u001B[49m\u001B[43m \u001B[49m\u001B[43mshuffle\u001B[49m\u001B[38;5;241;43m=\u001B[39;49m\u001B[38;5;28;43;01mTrue\u001B[39;49;00m\u001B[43m)\u001B[49m\u001B[43m:\u001B[49m\n\u001B[1;32m     33\u001B[0m \u001B[43m        \u001B[49m\u001B[43mopt\u001B[49m\u001B[38;5;241;43m.\u001B[39;49m\u001B[43mzero_grad\u001B[49m\u001B[43m(\u001B[49m\u001B[43m)\u001B[49m\n\u001B[1;32m     34\u001B[0m \u001B[43m        \u001B[49m\u001B[43mvl\u001B[49m\u001B[43m \u001B[49m\u001B[38;5;241;43m=\u001B[39;49m\u001B[43m \u001B[49m\u001B[43mnet\u001B[49m\u001B[43m(\u001B[49m\u001B[43mb\u001B[49m\u001B[43m)\u001B[49m\n",
      "File \u001B[0;32m~/PycharmProjects/todd/.venv/lib/python3.13/site-packages/torch/utils/data/dataloader.py:708\u001B[0m, in \u001B[0;36m_BaseDataLoaderIter.__next__\u001B[0;34m(self)\u001B[0m\n\u001B[1;32m    705\u001B[0m \u001B[38;5;28;01mif\u001B[39;00m \u001B[38;5;28mself\u001B[39m\u001B[38;5;241m.\u001B[39m_sampler_iter \u001B[38;5;129;01mis\u001B[39;00m \u001B[38;5;28;01mNone\u001B[39;00m:\n\u001B[1;32m    706\u001B[0m     \u001B[38;5;66;03m# TODO(https://github.com/pytorch/pytorch/issues/76750)\u001B[39;00m\n\u001B[1;32m    707\u001B[0m     \u001B[38;5;28mself\u001B[39m\u001B[38;5;241m.\u001B[39m_reset()  \u001B[38;5;66;03m# type: ignore[call-arg]\u001B[39;00m\n\u001B[0;32m--> 708\u001B[0m data \u001B[38;5;241m=\u001B[39m \u001B[38;5;28;43mself\u001B[39;49m\u001B[38;5;241;43m.\u001B[39;49m\u001B[43m_next_data\u001B[49m\u001B[43m(\u001B[49m\u001B[43m)\u001B[49m\n\u001B[1;32m    709\u001B[0m \u001B[38;5;28mself\u001B[39m\u001B[38;5;241m.\u001B[39m_num_yielded \u001B[38;5;241m+\u001B[39m\u001B[38;5;241m=\u001B[39m \u001B[38;5;241m1\u001B[39m\n\u001B[1;32m    710\u001B[0m \u001B[38;5;28;01mif\u001B[39;00m (\n\u001B[1;32m    711\u001B[0m     \u001B[38;5;28mself\u001B[39m\u001B[38;5;241m.\u001B[39m_dataset_kind \u001B[38;5;241m==\u001B[39m _DatasetKind\u001B[38;5;241m.\u001B[39mIterable\n\u001B[1;32m    712\u001B[0m     \u001B[38;5;129;01mand\u001B[39;00m \u001B[38;5;28mself\u001B[39m\u001B[38;5;241m.\u001B[39m_IterableDataset_len_called \u001B[38;5;129;01mis\u001B[39;00m \u001B[38;5;129;01mnot\u001B[39;00m \u001B[38;5;28;01mNone\u001B[39;00m\n\u001B[1;32m    713\u001B[0m     \u001B[38;5;129;01mand\u001B[39;00m \u001B[38;5;28mself\u001B[39m\u001B[38;5;241m.\u001B[39m_num_yielded \u001B[38;5;241m>\u001B[39m \u001B[38;5;28mself\u001B[39m\u001B[38;5;241m.\u001B[39m_IterableDataset_len_called\n\u001B[1;32m    714\u001B[0m ):\n",
      "File \u001B[0;32m~/PycharmProjects/todd/.venv/lib/python3.13/site-packages/torch/utils/data/dataloader.py:764\u001B[0m, in \u001B[0;36m_SingleProcessDataLoaderIter._next_data\u001B[0;34m(self)\u001B[0m\n\u001B[1;32m    762\u001B[0m \u001B[38;5;28;01mdef\u001B[39;00m\u001B[38;5;250m \u001B[39m\u001B[38;5;21m_next_data\u001B[39m(\u001B[38;5;28mself\u001B[39m):\n\u001B[1;32m    763\u001B[0m     index \u001B[38;5;241m=\u001B[39m \u001B[38;5;28mself\u001B[39m\u001B[38;5;241m.\u001B[39m_next_index()  \u001B[38;5;66;03m# may raise StopIteration\u001B[39;00m\n\u001B[0;32m--> 764\u001B[0m     data \u001B[38;5;241m=\u001B[39m \u001B[38;5;28;43mself\u001B[39;49m\u001B[38;5;241;43m.\u001B[39;49m\u001B[43m_dataset_fetcher\u001B[49m\u001B[38;5;241;43m.\u001B[39;49m\u001B[43mfetch\u001B[49m\u001B[43m(\u001B[49m\u001B[43mindex\u001B[49m\u001B[43m)\u001B[49m  \u001B[38;5;66;03m# may raise StopIteration\u001B[39;00m\n\u001B[1;32m    765\u001B[0m     \u001B[38;5;28;01mif\u001B[39;00m \u001B[38;5;28mself\u001B[39m\u001B[38;5;241m.\u001B[39m_pin_memory:\n\u001B[1;32m    766\u001B[0m         data \u001B[38;5;241m=\u001B[39m _utils\u001B[38;5;241m.\u001B[39mpin_memory\u001B[38;5;241m.\u001B[39mpin_memory(data, \u001B[38;5;28mself\u001B[39m\u001B[38;5;241m.\u001B[39m_pin_memory_device)\n",
      "File \u001B[0;32m~/PycharmProjects/todd/.venv/lib/python3.13/site-packages/torch/utils/data/_utils/fetch.py:52\u001B[0m, in \u001B[0;36m_MapDatasetFetcher.fetch\u001B[0;34m(self, possibly_batched_index)\u001B[0m\n\u001B[1;32m     50\u001B[0m         data \u001B[38;5;241m=\u001B[39m \u001B[38;5;28mself\u001B[39m\u001B[38;5;241m.\u001B[39mdataset\u001B[38;5;241m.\u001B[39m__getitems__(possibly_batched_index)\n\u001B[1;32m     51\u001B[0m     \u001B[38;5;28;01melse\u001B[39;00m:\n\u001B[0;32m---> 52\u001B[0m         data \u001B[38;5;241m=\u001B[39m [\u001B[38;5;28;43mself\u001B[39;49m\u001B[38;5;241;43m.\u001B[39;49m\u001B[43mdataset\u001B[49m\u001B[43m[\u001B[49m\u001B[43midx\u001B[49m\u001B[43m]\u001B[49m \u001B[38;5;28;01mfor\u001B[39;00m idx \u001B[38;5;129;01min\u001B[39;00m possibly_batched_index]\n\u001B[1;32m     53\u001B[0m \u001B[38;5;28;01melse\u001B[39;00m:\n\u001B[1;32m     54\u001B[0m     data \u001B[38;5;241m=\u001B[39m \u001B[38;5;28mself\u001B[39m\u001B[38;5;241m.\u001B[39mdataset[possibly_batched_index]\n",
      "File \u001B[0;32m~/PycharmProjects/todd/.venv/lib/python3.13/site-packages/torch/utils/data/dataset.py:211\u001B[0m, in \u001B[0;36mTensorDataset.__getitem__\u001B[0;34m(self, index)\u001B[0m\n\u001B[1;32m    210\u001B[0m \u001B[38;5;28;01mdef\u001B[39;00m\u001B[38;5;250m \u001B[39m\u001B[38;5;21m__getitem__\u001B[39m(\u001B[38;5;28mself\u001B[39m, index):\n\u001B[0;32m--> 211\u001B[0m     \u001B[38;5;28;01mreturn\u001B[39;00m \u001B[38;5;28;43mtuple\u001B[39;49m\u001B[43m(\u001B[49m\u001B[43mtensor\u001B[49m\u001B[43m[\u001B[49m\u001B[43mindex\u001B[49m\u001B[43m]\u001B[49m\u001B[43m \u001B[49m\u001B[38;5;28;43;01mfor\u001B[39;49;00m\u001B[43m \u001B[49m\u001B[43mtensor\u001B[49m\u001B[43m \u001B[49m\u001B[38;5;129;43;01min\u001B[39;49;00m\u001B[43m \u001B[49m\u001B[38;5;28;43mself\u001B[39;49m\u001B[38;5;241;43m.\u001B[39;49m\u001B[43mtensors\u001B[49m\u001B[43m)\u001B[49m\n",
      "File \u001B[0;32m~/PycharmProjects/todd/.venv/lib/python3.13/site-packages/torch/utils/data/dataset.py:211\u001B[0m, in \u001B[0;36m<genexpr>\u001B[0;34m(.0)\u001B[0m\n\u001B[1;32m    210\u001B[0m \u001B[38;5;28;01mdef\u001B[39;00m\u001B[38;5;250m \u001B[39m\u001B[38;5;21m__getitem__\u001B[39m(\u001B[38;5;28mself\u001B[39m, index):\n\u001B[0;32m--> 211\u001B[0m     \u001B[38;5;28;01mreturn\u001B[39;00m \u001B[38;5;28mtuple\u001B[39m(tensor[index] \u001B[38;5;28;01mfor\u001B[39;00m tensor \u001B[38;5;129;01min\u001B[39;00m \u001B[38;5;28mself\u001B[39m\u001B[38;5;241m.\u001B[39mtensors)\n",
      "\u001B[0;31mKeyboardInterrupt\u001B[0m: "
     ]
    }
   ],
   "execution_count": 201
  },
  {
   "metadata": {
    "ExecuteTime": {
     "end_time": "2025-03-06T17:19:45.211668Z",
     "start_time": "2025-03-06T17:19:45.085229Z"
    }
   },
   "cell_type": "code",
   "source": [
    "b = Board3(walk_time=1000, walk_frodo=False)\n",
    "b.players_positions = [(2, 1), (0, 0), (3, 3)]\n",
    "net.eval()\n",
    "with torch.no_grad():\n",
    "    vl = net(to_emb(b))\n",
    "\n",
    "plt.bar(range(ActionController.get_action_space()), vl.squeeze(0))\n",
    "plt.show()\n",
    "print(vl.argmax())"
   ],
   "id": "cd8af72cb55fb225",
   "outputs": [
    {
     "data": {
      "text/plain": [
       "<Figure size 640x480 with 1 Axes>"
      ],
      "image/png": "[encoded data removed]"
     },
     "metadata": {},
     "output_type": "display_data"
    },
    {
     "name": "stdout",
     "output_type": "stream",
     "text": [
      "tensor(28)\n"
     ]
    }
   ],
   "execution_count": 199
  },
  {
   "metadata": {
    "ExecuteTime": {
     "end_time": "2025-03-06T17:08:02.361563Z",
     "start_time": "2025-03-06T17:08:00.730943Z"
    }
   },
   "cell_type": "code",
   "source": [
    "\n",
    "\n",
    "eval_net(net)\n"
   ],
   "id": "3eebf6cadd83d7d8",
   "outputs": [
    {
     "data": {
      "text/plain": [
       "(0.19, 0.81, 0.0)"
      ]
     },
     "execution_count": 194,
     "metadata": {},
     "output_type": "execute_result"
    }
   ],
   "execution_count": 194
  },
  {
   "metadata": {
    "ExecuteTime": {
     "end_time": "2025-03-06T17:08:03.995025Z",
     "start_time": "2025-03-06T17:08:03.600621Z"
    }
   },
   "cell_type": "code",
   "source": [
    "\n",
    "\n",
    "eval_d(d, 100, 1600)"
   ],
   "id": "f8448815eea48f4",
   "outputs": [
    {
     "data": {
      "text/plain": [
       "(0.09, 0.91, 0.0)"
      ]
     },
     "execution_count": 195,
     "metadata": {},
     "output_type": "execute_result"
    }
   ],
   "execution_count": 195
  },
  {
   "metadata": {},
   "cell_type": "code",
   "outputs": [],
   "execution_count": null,
   "source": "",
   "id": "1af3811a246e1c94"
  }
 ],
 "metadata": {
  "kernelspec": {
   "display_name": "Python 3",
   "language": "python",
   "name": "python3"
  },
  "language_info": {
   "codemirror_mode": {
    "name": "ipython",
    "version": 2
   },
   "file_extension": ".py",
   "mimetype": "text/x-python",
   "name": "python",
   "nbconvert_exporter": "python",
   "pygments_lexer": "ipython2",
   "version": "2.7.6"
  }
 },
 "nbformat": 4,
 "nbformat_minor": 5
}
