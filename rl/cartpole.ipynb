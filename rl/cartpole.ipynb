{
 "cells": [
  {
   "cell_type": "code",
   "id": "initial_id",
   "metadata": {
    "collapsed": true,
    "ExecuteTime": {
     "end_time": "2025-02-26T16:39:52.044356Z",
     "start_time": "2025-02-26T16:39:52.041459Z"
    }
   },
   "source": [
    "import gymnasium as gym\n",
    "\n",
    "import torch\n",
    "import torch.nn as nn\n",
    "import torch.optim as optim\n",
    "\n",
    "from torch.utils.data import DataLoader, TensorDataset\n",
    "from torch.distributions.categorical import Categorical\n",
    "from tqdm.auto import tqdm\n",
    "from collections import deque\n",
    "\n",
    "import random\n",
    "\n",
    "import matplotlib.pyplot as plt"
   ],
   "outputs": [],
   "execution_count": 106
  },
  {
   "metadata": {
    "ExecuteTime": {
     "end_time": "2025-02-26T16:39:52.568162Z",
     "start_time": "2025-02-26T16:39:52.565096Z"
    }
   },
   "cell_type": "code",
   "source": [
    "env = gym.make('CartPole-v1')\n",
    "print(env._max_episode_steps)"
   ],
   "id": "836a128fc6df9682",
   "outputs": [
    {
     "name": "stdout",
     "output_type": "stream",
     "text": [
      "500\n"
     ]
    }
   ],
   "execution_count": 107
  },
  {
   "metadata": {
    "ExecuteTime": {
     "end_time": "2025-02-26T16:39:53.333703Z",
     "start_time": "2025-02-26T16:39:53.260140Z"
    }
   },
   "cell_type": "code",
   "source": [
    "def select_random(obs):\n",
    "    return random.randint(0, 1)\n",
    "\n",
    "\n",
    "def run(env, act):\n",
    "\n",
    "    obs, info = env.reset()\n",
    "    l = 0\n",
    "    while True:\n",
    "        obs = torch.Tensor(obs)\n",
    "        action = act(obs)\n",
    "        obs, reward, done, truncated, info = env.step(action)\n",
    "        l += 1\n",
    "        if done or truncated:\n",
    "            break\n",
    "\n",
    "    return l / env._max_episode_steps\n",
    "\n",
    "def test_policy(env, act, n=100):\n",
    "    return sum(run(env, act) for _ in range(n)) / n\n",
    "\n",
    "\n",
    "test_policy(env, select_random)"
   ],
   "id": "e4cd9aa85d2ac5a1",
   "outputs": [
    {
     "data": {
      "text/plain": [
       "0.04846"
      ]
     },
     "execution_count": 108,
     "metadata": {},
     "output_type": "execute_result"
    }
   ],
   "execution_count": 108
  },
  {
   "metadata": {
    "ExecuteTime": {
     "end_time": "2025-02-26T16:39:54.077164Z",
     "start_time": "2025-02-26T16:39:53.893610Z"
    }
   },
   "cell_type": "code",
   "source": [
    "def select_simple(obs):\n",
    "    return 0 if obs[2] < 0 else 1\n",
    "\n",
    "test_policy(env, select_simple)"
   ],
   "id": "53b872b3f478e57a",
   "outputs": [
    {
     "data": {
      "text/plain": [
       "0.08628"
      ]
     },
     "execution_count": 109,
     "metadata": {},
     "output_type": "execute_result"
    }
   ],
   "execution_count": 109
  },
  {
   "metadata": {
    "ExecuteTime": {
     "end_time": "2025-02-26T16:39:57.230349Z",
     "start_time": "2025-02-26T16:39:54.858814Z"
    }
   },
   "cell_type": "code",
   "source": [
    "def select_good(obs):\n",
    "    return 0 if obs[2] + obs[3] < 0 else 1\n",
    "\n",
    "test_policy(env, select_good)"
   ],
   "id": "99ea95299a25ad79",
   "outputs": [
    {
     "data": {
      "text/plain": [
       "0.9727800000000001"
      ]
     },
     "execution_count": 110,
     "metadata": {},
     "output_type": "execute_result"
    }
   ],
   "execution_count": 110
  },
  {
   "metadata": {
    "ExecuteTime": {
     "end_time": "2025-02-26T16:39:57.868993Z",
     "start_time": "2025-02-26T16:39:57.770454Z"
    }
   },
   "cell_type": "code",
   "source": [
    "class Np(nn.Module):\n",
    "    def __init__(self):\n",
    "        super(Np, self).__init__()\n",
    "        self.seq = nn.Sequential(\n",
    "            nn.Linear(4, 2),\n",
    "            nn.Softmax(dim=-1)\n",
    "        )\n",
    "    def forward(self, x):\n",
    "        return self.seq(x)\n",
    "\n",
    "\n",
    "\n",
    "def select_nn_sample(obs, net):\n",
    "    p = net(obs)\n",
    "    c = Categorical(p)\n",
    "    a = c.sample()\n",
    "    return a.item(), c.log_prob(a)\n",
    "\n",
    "def select_nn(obs, net):\n",
    "    with torch.no_grad():\n",
    "        p = net(obs)\n",
    "    return torch.argmax(p).item()\n",
    "\n",
    "net = Np()\n",
    "\n",
    "test_policy(env, lambda x: select_nn(x, net))"
   ],
   "id": "510aa87162adec24",
   "outputs": [
    {
     "data": {
      "text/plain": [
       "0.02512"
      ]
     },
     "execution_count": 111,
     "metadata": {},
     "output_type": "execute_result"
    }
   ],
   "execution_count": 111
  },
  {
   "metadata": {
    "ExecuteTime": {
     "end_time": "2025-02-26T16:40:53.248739Z",
     "start_time": "2025-02-26T16:39:58.991561Z"
    }
   },
   "cell_type": "code",
   "source": [
    "def train_nn(env, net, n=1000):\n",
    "\n",
    "    optimizer = optim.Adam(net.parameters(), lr=0.01)\n",
    "    progress = tqdm(total=n)\n",
    "    for e in range(n):\n",
    "        obs, info = env.reset()\n",
    "        probs = []\n",
    "        r = []\n",
    "        while True:\n",
    "            tobs = torch.Tensor(obs)\n",
    "            action, log_prob = select_nn_sample(tobs, net)\n",
    "            probs.append(log_prob)\n",
    "            obs, reward, done, truncated, info = env.step(action)\n",
    "            r.append(reward)\n",
    "            if done or truncated:\n",
    "                break\n",
    "\n",
    "        nr = [r[-1]]\n",
    "\n",
    "        for i in range(len(r) - 2, -1, -1):\n",
    "            nr.append(r[i] + 0.99 * nr[-1])\n",
    "\n",
    "        optimizer.zero_grad()\n",
    "\n",
    "        loss = torch.sum(-torch.stack(probs) * torch.Tensor(nr[::-1]))\n",
    "\n",
    "        loss.backward()\n",
    "        optimizer.step()\n",
    "        progress.update(1)\n",
    "\n",
    "        if e % 10 == 0:\n",
    "            perf = test_policy(env, lambda x: select_nn(x, net))\n",
    "            print(f'Episode {e}, loss {loss.item()}, test {perf}')\n",
    "            if perf >= 0.99:\n",
    "                progress.close()\n",
    "                break\n",
    "\n",
    "net = Np()\n",
    "\n",
    "train_nn(env, net)\n"
   ],
   "id": "5efa3b6edf36983e",
   "outputs": [
    {
     "data": {
      "text/plain": [
       "  0%|          | 0/1000 [00:00<?, ?it/s]"
      ],
      "application/vnd.jupyter.widget-view+json": {
       "version_major": 2,
       "version_minor": 0,
       "model_id": "c18b193bf37d4740997827f48a344915"
      }
     },
     "metadata": {},
     "output_type": "display_data"
    },
    {
     "name": "stdout",
     "output_type": "stream",
     "text": [
      "Episode 0, loss 176.75784301757812, test 0.01902\n",
      "Episode 10, loss 81.00096893310547, test 0.018539999999999997\n",
      "Episode 20, loss 84.67842864990234, test 0.01886\n",
      "Episode 30, loss 64.49488067626953, test 0.01876\n",
      "Episode 40, loss 245.09483337402344, test 0.018439999999999998\n",
      "Episode 50, loss 332.8906555175781, test 0.029300000000000003\n",
      "Episode 60, loss 342.62005615234375, test 0.10994\n",
      "Episode 70, loss 61.55303955078125, test 0.07748000000000001\n",
      "Episode 80, loss 118.0351791381836, test 0.0932\n",
      "Episode 90, loss 652.7884521484375, test 0.18982\n",
      "Episode 100, loss 343.3590087890625, test 0.22225999999999999\n",
      "Episode 110, loss 1697.796875, test 0.31574\n",
      "Episode 120, loss 179.09954833984375, test 0.28437999999999997\n",
      "Episode 130, loss 698.52783203125, test 0.37298000000000003\n",
      "Episode 140, loss 952.1618041992188, test 0.33606\n",
      "Episode 150, loss 190.06069946289062, test 0.37921999999999995\n",
      "Episode 160, loss 843.2251586914062, test 0.40906\n",
      "Episode 170, loss 453.04437255859375, test 0.32738\n",
      "Episode 180, loss 309.04168701171875, test 0.39683999999999997\n",
      "Episode 190, loss 542.7680053710938, test 0.35214\n",
      "Episode 200, loss 949.0316162109375, test 0.48412\n",
      "Episode 210, loss 291.2308044433594, test 0.68338\n",
      "Episode 220, loss 1245.5843505859375, test 0.7382\n",
      "Episode 230, loss 1716.033203125, test 0.77026\n",
      "Episode 240, loss 632.9495239257812, test 0.77498\n",
      "Episode 250, loss 917.0787963867188, test 0.78714\n",
      "Episode 260, loss 295.6128234863281, test 0.75614\n",
      "Episode 270, loss 522.15380859375, test 0.41668\n",
      "Episode 280, loss 2022.68017578125, test 0.4868\n",
      "Episode 290, loss 2180.993896484375, test 0.85272\n",
      "Episode 300, loss 934.0435791015625, test 0.99252\n"
     ]
    }
   ],
   "execution_count": 112
  },
  {
   "metadata": {
    "ExecuteTime": {
     "end_time": "2025-02-26T11:02:32.642861789Z",
     "start_time": "2025-02-25T18:58:30.969313Z"
    }
   },
   "cell_type": "code",
   "source": "",
   "id": "274fa10893e683d1",
   "outputs": [],
   "execution_count": null
  }
 ],
 "metadata": {
  "kernelspec": {
   "display_name": "Python 3",
   "language": "python",
   "name": "python3"
  },
  "language_info": {
   "codemirror_mode": {
    "name": "ipython",
    "version": 2
   },
   "file_extension": ".py",
   "mimetype": "text/x-python",
   "name": "python",
   "nbconvert_exporter": "python",
   "pygments_lexer": "ipython2",
   "version": "2.7.6"
  }
 },
 "nbformat": 4,
 "nbformat_minor": 5
}
