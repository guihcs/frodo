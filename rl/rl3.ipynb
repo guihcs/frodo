{
 "cells": [
  {
   "metadata": {
    "ExecuteTime": {
     "end_time": "2025-04-30T18:48:16.091249Z",
     "start_time": "2025-04-30T18:48:14.884511Z"
    }
   },
   "cell_type": "code",
   "source": [
    "from board3 import Board3\n",
    "from controller3 import ActionController\n",
    "\n",
    "import random\n",
    "\n",
    "import torch\n",
    "import torch.nn as nn\n",
    "import torch.optim as optim\n",
    "\n",
    "from torch.distributions.categorical import Categorical\n",
    "\n",
    "from tqdm.auto import tqdm"
   ],
   "id": "37f47c16427e3ab9",
   "outputs": [],
   "execution_count": 1
  },
  {
   "metadata": {
    "ExecuteTime": {
     "end_time": "2025-04-30T18:48:16.099135Z",
     "start_time": "2025-04-30T18:48:16.095685Z"
    }
   },
   "cell_type": "code",
   "source": [
    "def to_emb(b: Board3):\n",
    "\n",
    "    py, px = b.get_player_position()\n",
    "    ey, ex = b.get_enemy_position()\n",
    "    ty, tx = b.get_todd_position()\n",
    "\n",
    "    mws = [0 for _ in range(16)]\n",
    "\n",
    "    for my, mx in b.mw:\n",
    "        mws[my * 4 + mx] = 1\n",
    "\n",
    "    mwe = torch.Tensor(mws)\n",
    "\n",
    "    pe = torch.cat([nn.functional.one_hot(torch.LongTensor([x]), num_classes=4) for x in [py, px, ey, ex, ty, tx]], dim=0)\n",
    "\n",
    "    return torch.cat([pe.flatten().float(), mwe], dim=0).unsqueeze(0)"
   ],
   "id": "3d1ce597608230c2",
   "outputs": [],
   "execution_count": 2
  },
  {
   "metadata": {
    "ExecuteTime": {
     "end_time": "2025-04-30T18:49:23.841639Z",
     "start_time": "2025-04-30T18:49:23.839258Z"
    }
   },
   "cell_type": "code",
   "source": [
    "b = Board3(walk_frodo=False, walk_time=1000)\n",
    "b.players_positions = [(2, 3), (2, 2), (3, 3)]\n",
    "\n",
    "print(b)"
   ],
   "id": "af27c2e3c1682444",
   "outputs": [
    {
     "name": "stdout",
     "output_type": "stream",
     "text": [
      "\u001B[97m.\u001B[0m  \u001B[33m%\u001B[0m  \u001B[97m.\u001B[0m  \u001B[33m%\u001B[0m\n",
      "\u001B[97m.\u001B[0m  \u001B[33m%\u001B[0m  \u001B[97m.\u001B[0m  \u001B[33m%\u001B[0m\n",
      "\u001B[97m.\u001B[0m  \u001B[97m.\u001B[0m  \u001B[31mE\u001B[0m  \u001B[32mP\u001B[0m\n",
      "\u001B[97m.\u001B[0m  \u001B[97m.\u001B[0m  \u001B[97m.\u001B[0m  \u001B[97mT\u001B[0m\n"
     ]
    }
   ],
   "execution_count": 8
  },
  {
   "metadata": {
    "ExecuteTime": {
     "end_time": "2025-04-30T18:54:17.004750Z",
     "start_time": "2025-04-30T18:52:35.995456Z"
    }
   },
   "cell_type": "code",
   "source": [
    "\n",
    "\n",
    "def gen_new_board():\n",
    "    b = Board3(walk_frodo=False, walk_time=1000)\n",
    "    b.players_positions = [(2, 3), (2, 2), (3, 3)]\n",
    "    return b\n",
    "\n",
    "ag = {}\n",
    "\n",
    "for e in tqdm(range(10000)):\n",
    "\n",
    "    b = gen_new_board()\n",
    "\n",
    "    h = []\n",
    "\n",
    "    for _ in range(50):\n",
    "\n",
    "        if b not in ag:\n",
    "            ag[b] = [0.5 for _ in range(ActionController.get_action_space())]\n",
    "\n",
    "        if random.random() < 0.1:\n",
    "            ra = random.randint(0, ActionController.get_action_space() - 1)\n",
    "        else:\n",
    "            ra = max(list(range(ActionController.get_action_space())), key=lambda x: ag[b][x])\n",
    "\n",
    "        bc, r, end = ActionController.step(b, ra, 1600)\n",
    "\n",
    "        if bc not in ag:\n",
    "            ag[bc] = [0.5 for _ in range(ActionController.get_action_space())]\n",
    "\n",
    "        if end:\n",
    "            y = r\n",
    "        else:\n",
    "            y = r - ag[bc][ra] + 0.9 * max(ag[bc])\n",
    "\n",
    "        ag[b][ra] += 0.1 * y\n",
    "\n",
    "        if end:\n",
    "            break\n",
    "\n",
    "        b = bc\n",
    "\n",
    "\n"
   ],
   "id": "54352336a037b631",
   "outputs": [
    {
     "data": {
      "text/plain": [
       "  0%|          | 0/10000 [00:00<?, ?it/s]"
      ],
      "application/vnd.jupyter.widget-view+json": {
       "version_major": 2,
       "version_minor": 0,
       "model_id": "529deef71290442c9736b9128d2a419f"
      }
     },
     "metadata": {},
     "output_type": "display_data"
    }
   ],
   "execution_count": 13
  },
  {
   "metadata": {
    "ExecuteTime": {
     "end_time": "2025-04-30T17:43:49.213193Z",
     "start_time": "2025-04-30T17:43:49.206537Z"
    }
   },
   "cell_type": "code",
   "source": [
    "b = gen_new_board()\n",
    "b.set_enemy(0, 2)\n",
    "print(b)\n",
    "if b not in ag:\n",
    "    ag[b] = [0.5 for _ in range(ActionController.get_action_space())]\n",
    "\n",
    "a = max(list(range(ActionController.get_action_space())), key=lambda x: ag[b][x])\n",
    "print(a)\n",
    "print(ActionController.explain_action(a))"
   ],
   "id": "5b16578bf9a97af7",
   "outputs": [
    {
     "name": "stdout",
     "output_type": "stream",
     "text": [
      "\u001B[97m.\u001B[0m  \u001B[33m%\u001B[0m  \u001B[31mE\u001B[0m  \u001B[33m%\u001B[0m\n",
      "\u001B[97m.\u001B[0m  \u001B[33m%\u001B[0m  \u001B[97m.\u001B[0m  \u001B[33m%\u001B[0m\n",
      "\u001B[97m.\u001B[0m  \u001B[97m.\u001B[0m  \u001B[97m.\u001B[0m  \u001B[32mP\u001B[0m\n",
      "\u001B[97m.\u001B[0m  \u001B[97m.\u001B[0m  \u001B[97m.\u001B[0m  \u001B[97mT\u001B[0m\n",
      "29\n",
      "MW 1 2\n"
     ]
    }
   ],
   "execution_count": 56
  },
  {
   "metadata": {
    "ExecuteTime": {
     "end_time": "2025-04-30T18:54:22.578428Z",
     "start_time": "2025-04-30T18:54:21.326516Z"
    }
   },
   "cell_type": "code",
   "source": [
    "def eval_nt(ag, n = 100, e = 50, time_step=1600):\n",
    "\n",
    "    w, d, l = 0, 0, 0\n",
    "\n",
    "    for _ in range(n):\n",
    "        b = gen_new_board()\n",
    "\n",
    "        for _ in range(e):\n",
    "            if b not in ag:\n",
    "                ag[b] = [0.5 for _ in range(ActionController.get_action_space())]\n",
    "\n",
    "            a = max(list(range(ActionController.get_action_space())), key=lambda x: ag[b][x])\n",
    "            bc, r, end = ActionController.step(b, a, time_step)\n",
    "            if end:\n",
    "                if r == 1:\n",
    "                    w += 1\n",
    "                elif r == -1:\n",
    "                    l += 1\n",
    "                break\n",
    "            b = bc\n",
    "        else:\n",
    "            d += 1\n",
    "\n",
    "\n",
    "    return w / n, d / n, l / n\n",
    "\n",
    "\n",
    "eval_nt(ag)\n",
    "\n"
   ],
   "id": "aaa09a128d4acc1e",
   "outputs": [
    {
     "data": {
      "text/plain": [
       "(0.0, 1.0, 0.0)"
      ]
     },
     "execution_count": 14,
     "metadata": {},
     "output_type": "execute_result"
    }
   ],
   "execution_count": 14
  },
  {
   "metadata": {},
   "cell_type": "code",
   "outputs": [],
   "execution_count": null,
   "source": "",
   "id": "eaf2dfe5ba54ea8e"
  }
 ],
 "metadata": {
  "kernelspec": {
   "display_name": "Python 3",
   "language": "python",
   "name": "python3"
  },
  "language_info": {
   "codemirror_mode": {
    "name": "ipython",
    "version": 2
   },
   "file_extension": ".py",
   "mimetype": "text/x-python",
   "name": "python",
   "nbconvert_exporter": "python",
   "pygments_lexer": "ipython2",
   "version": "2.7.6"
  }
 },
 "nbformat": 4,
 "nbformat_minor": 5
}
