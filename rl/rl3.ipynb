{
 "cells": [
  {
   "cell_type": "code",
   "id": "initial_id",
   "metadata": {
    "collapsed": true,
    "ExecuteTime": {
     "end_time": "2025-04-20T16:12:48.875341Z",
     "start_time": "2025-04-20T16:12:45.729483Z"
    }
   },
   "source": [
    "from board3 import Board3, empty_cells\n",
    "from controller3 import ActionController\n",
    "\n",
    "import random\n",
    "\n",
    "import torch\n",
    "import torch.nn as nn\n",
    "import torch.optim as optim\n",
    "\n",
    "from torch.utils.data import DataLoader, TensorDataset\n",
    "from nnl import to_emb\n",
    "\n",
    "import matplotlib.pyplot as plt\n",
    "\n",
    "from tqdm.auto import tqdm"
   ],
   "outputs": [],
   "execution_count": 1
  },
  {
   "metadata": {
    "ExecuteTime": {
     "end_time": "2025-04-20T16:12:49.023794Z",
     "start_time": "2025-04-20T16:12:49.019836Z"
    }
   },
   "cell_type": "code",
   "source": [
    "def step(b, a, time=1600):\n",
    "    bc = b.copy()\n",
    "    nc = ActionController(bc)\n",
    "\n",
    "    nc.execute_action(a)\n",
    "    bc.step(time)\n",
    "\n",
    "    reward = 0\n",
    "    end = False\n",
    "    if nc.is_win():\n",
    "        reward = 1\n",
    "        end = True\n",
    "    elif nc.is_lose():\n",
    "        reward = -1\n",
    "        end = True\n",
    "    elif nc.is_block():\n",
    "        reward = -1\n",
    "        end = True\n",
    "\n",
    "    return bc, reward, end"
   ],
   "id": "4342c6c63b9b086c",
   "outputs": [],
   "execution_count": 2
  },
  {
   "metadata": {
    "ExecuteTime": {
     "end_time": "2025-04-20T16:33:45.455643Z",
     "start_time": "2025-04-20T16:33:45.451083Z"
    }
   },
   "cell_type": "code",
   "source": [
    "b = Board3(walk_frodo=False, walk_time=1600)\n",
    "b.players_positions = [(0, 2), (1, 0), (3, 3)]\n",
    "\n",
    "print(b)"
   ],
   "id": "501f38f7fc35e949",
   "outputs": [
    {
     "name": "stdout",
     "output_type": "stream",
     "text": [
      "\u001B[97m.\u001B[0m  \u001B[33m%\u001B[0m  \u001B[32mP\u001B[0m  \u001B[33m%\u001B[0m\n",
      "\u001B[31mE\u001B[0m  \u001B[33m%\u001B[0m  \u001B[97m.\u001B[0m  \u001B[33m%\u001B[0m\n",
      "\u001B[97m.\u001B[0m  \u001B[97m.\u001B[0m  \u001B[97m.\u001B[0m  \u001B[97m.\u001B[0m\n",
      "\u001B[97m.\u001B[0m  \u001B[97m.\u001B[0m  \u001B[97m.\u001B[0m  \u001B[97mT\u001B[0m\n"
     ]
    }
   ],
   "execution_count": 10
  },
  {
   "metadata": {
    "ExecuteTime": {
     "end_time": "2025-04-20T16:34:07.158708Z",
     "start_time": "2025-04-20T16:34:07.156207Z"
    }
   },
   "cell_type": "code",
   "source": [
    "\n",
    "\n",
    "\n",
    "def gen_init_board():\n",
    "    b = Board3(walk_time=500)\n",
    "\n",
    "    b.players_positions = [(0, 2), (1, 0), (3, 3)]\n",
    "\n",
    "    return b"
   ],
   "id": "e419240edeaf7230",
   "outputs": [],
   "execution_count": 11
  },
  {
   "metadata": {
    "ExecuteTime": {
     "end_time": "2025-04-20T16:34:10.212082Z",
     "start_time": "2025-04-20T16:34:09.184160Z"
    }
   },
   "cell_type": "code",
   "source": "m = {}\n",
   "id": "ea5f6e45ac364cfa",
   "outputs": [],
   "execution_count": 12
  },
  {
   "metadata": {
    "ExecuteTime": {
     "end_time": "2025-04-20T16:43:02.972840Z",
     "start_time": "2025-04-20T16:34:10.223730Z"
    }
   },
   "cell_type": "code",
   "source": [
    "\n",
    "e = 1.0\n",
    "for i in tqdm(range(200000)):\n",
    "\n",
    "    e = max(0.1, e - 0.001 * i)\n",
    "\n",
    "    b = gen_init_board()\n",
    "\n",
    "    h = []\n",
    "\n",
    "    for _ in range(50):\n",
    "\n",
    "        if b not in m:\n",
    "            m[b] = [0.5 for _ in range(ActionController.get_action_space())]\n",
    "\n",
    "        if random.random() < e:\n",
    "            a = random.randint(0, ActionController.get_action_space() - 1)\n",
    "        else:\n",
    "            a = max(range(ActionController.get_action_space()), key=lambda x: m[b][x])\n",
    "\n",
    "        bc, r, end = step(b, a, 1000)\n",
    "\n",
    "        h.append((b.copy(), a, r))\n",
    "\n",
    "        # if end:\n",
    "        #     y = r\n",
    "        # else:\n",
    "        #     if bc not in m:\n",
    "        #         m[bc] = [0.5 for _ in range(ActionController.get_action_space())]\n",
    "        #     y = r + 0.85 * max(m[bc])\n",
    "        #\n",
    "        # m[b][a] += 0.1 * (y - m[b][a])\n",
    "\n",
    "        if end:\n",
    "            break\n",
    "\n",
    "        b = bc\n",
    "    accr = 0\n",
    "    for b, a, r in h[::-1]:\n",
    "        accr = r + 0.85 * accr\n",
    "        m[b][a] += 0.1 * (accr - m[b][a])\n",
    "\n",
    "print(len(m))\n"
   ],
   "id": "47c239188a0af9b7",
   "outputs": [
    {
     "data": {
      "text/plain": [
       "  0%|          | 0/200000 [00:00<?, ?it/s]"
      ],
      "application/vnd.jupyter.widget-view+json": {
       "version_major": 2,
       "version_minor": 0,
       "model_id": "83bd4c67e7104238acb9e6e1ed4f43f8"
      }
     },
     "metadata": {},
     "output_type": "display_data"
    },
    {
     "name": "stdout",
     "output_type": "stream",
     "text": [
      "368257\n"
     ]
    }
   ],
   "execution_count": 13
  },
  {
   "metadata": {
    "ExecuteTime": {
     "end_time": "2025-04-20T16:54:14.282699Z",
     "start_time": "2025-04-20T16:54:14.028077Z"
    }
   },
   "cell_type": "code",
   "source": [
    "def eval_m(m, n=100):\n",
    "    w, d, l = 0, 0, 0\n",
    "    for _ in range(n):\n",
    "        b = gen_init_board()\n",
    "\n",
    "        for _ in range(50):\n",
    "\n",
    "            if b not in m:\n",
    "                m[b] = [0.5 for _ in range(ActionController.get_action_space())]\n",
    "\n",
    "            a = max(range(ActionController.get_action_space()), key=lambda x: m[b][x])\n",
    "\n",
    "            bc, r, end = step(b, a, 1000)\n",
    "\n",
    "            if end:\n",
    "                if r == 1:\n",
    "                    w += 1\n",
    "                elif r == -1:\n",
    "                    l += 1\n",
    "                else:\n",
    "                    d += 1\n",
    "                break\n",
    "\n",
    "            b = bc\n",
    "        else:\n",
    "            d += 1\n",
    "\n",
    "    return w / n, d / n, l / n\n",
    "\n",
    "\n",
    "w, d, l = eval_m(m)\n",
    "print(f'Wins: {w:.2f}, Draws: {d:.2f}, Loses: {l:.2f}')\n"
   ],
   "id": "e3639d663f734ca7",
   "outputs": [
    {
     "name": "stdout",
     "output_type": "stream",
     "text": [
      "Wins: 1.00, Draws: 0.00, Loses: 0.00\n"
     ]
    }
   ],
   "execution_count": 14
  },
  {
   "metadata": {
    "ExecuteTime": {
     "end_time": "2025-04-20T16:33:12.226686Z",
     "start_time": "2025-04-20T16:33:12.052878Z"
    }
   },
   "cell_type": "code",
   "source": [
    "for _ in range(100000):\n",
    "\n",
    "    b = Board3(walk_frodo=False, walk_time=1600)\n",
    "\n",
    "    if random.random() < 0.5:\n",
    "        b.players_positions = [(2, 1), (1, 0), (3, 3)]\n",
    "    else:\n",
    "        b.players_positions = [(2, 1), (1, 2), (3, 3)]\n",
    "\n",
    "    b.set_player(*random.choice(list(set(empty_cells) - {b.get_enemy_position(), b.get_todd_position()})))\n",
    "    sb = b.copy()\n",
    "\n",
    "    for _ in range(20):\n",
    "\n",
    "        if b not in m:\n",
    "            m[b] = [0.5 for _ in range(ActionController.get_action_space())]\n",
    "\n",
    "        a = max(range(ActionController.get_action_space()), key=lambda x: m[b][x])\n",
    "\n",
    "        bc, r, end = step(b, a, 1600)\n",
    "\n",
    "        if end:\n",
    "            if r == 1:\n",
    "                w += 1\n",
    "            elif r == -1:\n",
    "                l += 1\n",
    "            else:\n",
    "                d += 1\n",
    "                print(sb)\n",
    "                print('---')\n",
    "                print(b)\n",
    "                raise Exception('hue')\n",
    "            break\n",
    "\n",
    "        b = bc\n",
    "    else:\n",
    "        d += 1\n",
    "        print(sb)\n",
    "        print('---')\n",
    "        print(b)\n",
    "        raise Exception('hue')"
   ],
   "id": "772e086a905420a0",
   "outputs": [
    {
     "name": "stdout",
     "output_type": "stream",
     "text": [
      "\u001B[97m.\u001B[0m  \u001B[33m%\u001B[0m  \u001B[32mP\u001B[0m  \u001B[33m%\u001B[0m\n",
      "\u001B[31mE\u001B[0m  \u001B[33m%\u001B[0m  \u001B[97m.\u001B[0m  \u001B[33m%\u001B[0m\n",
      "\u001B[97m.\u001B[0m  \u001B[97m.\u001B[0m  \u001B[97m.\u001B[0m  \u001B[97m.\u001B[0m\n",
      "\u001B[97m.\u001B[0m  \u001B[97m.\u001B[0m  \u001B[97m.\u001B[0m  \u001B[97mT\u001B[0m\n",
      "---\n",
      "\u001B[97m.\u001B[0m  \u001B[33m%\u001B[0m  \u001B[32mP\u001B[0m  \u001B[33m%\u001B[0m\n",
      "\u001B[31mE\u001B[0m  \u001B[33m%\u001B[0m  \u001B[97m.\u001B[0m  \u001B[33m%\u001B[0m\n",
      "\u001B[97m.\u001B[0m  \u001B[97m.\u001B[0m  \u001B[97m.\u001B[0m  \u001B[97m.\u001B[0m\n",
      "\u001B[97m.\u001B[0m  \u001B[97m.\u001B[0m  \u001B[97m.\u001B[0m  \u001B[97mT\u001B[0m\n"
     ]
    },
    {
     "ename": "Exception",
     "evalue": "hue",
     "output_type": "error",
     "traceback": [
      "\u001B[0;31m---------------------------------------------------------------------------\u001B[0m",
      "\u001B[0;31mException\u001B[0m                                 Traceback (most recent call last)",
      "Cell \u001B[0;32mIn[9], line 41\u001B[0m\n\u001B[1;32m     39\u001B[0m \u001B[38;5;28mprint\u001B[39m(\u001B[38;5;124m'\u001B[39m\u001B[38;5;124m---\u001B[39m\u001B[38;5;124m'\u001B[39m)\n\u001B[1;32m     40\u001B[0m \u001B[38;5;28mprint\u001B[39m(b)\n\u001B[0;32m---> 41\u001B[0m \u001B[38;5;28;01mraise\u001B[39;00m \u001B[38;5;167;01mException\u001B[39;00m(\u001B[38;5;124m'\u001B[39m\u001B[38;5;124mhue\u001B[39m\u001B[38;5;124m'\u001B[39m)\n",
      "\u001B[0;31mException\u001B[0m: hue"
     ]
    }
   ],
   "execution_count": 9
  },
  {
   "metadata": {
    "ExecuteTime": {
     "end_time": "2025-04-20T14:20:17.781075Z",
     "start_time": "2025-04-20T14:20:17.774898Z"
    }
   },
   "cell_type": "code",
   "source": [
    "b = Board3(walk_frodo=False, walk_time=1600)\n",
    "b.players_positions = [(1, 2), (2, 2), (3, 3)]\n",
    "print(b)\n",
    "print('---')\n",
    "print(ActionController.explain_action(max(range(ActionController.get_action_space()), key=lambda x: m[b][x])))\n",
    "print('---')\n",
    "for i, v in enumerate(m[b]):\n",
    "    print(f'{ActionController.explain_action(i):15s}: {v:.2f}')"
   ],
   "id": "660fe80f68e97004",
   "outputs": [
    {
     "name": "stdout",
     "output_type": "stream",
     "text": [
      "\u001B[97m.\u001B[0m  \u001B[33m%\u001B[0m  \u001B[97m.\u001B[0m  \u001B[33m%\u001B[0m\n",
      "\u001B[97m.\u001B[0m  \u001B[33m%\u001B[0m  \u001B[32mP\u001B[0m  \u001B[33m%\u001B[0m\n",
      "\u001B[97m.\u001B[0m  \u001B[97m.\u001B[0m  \u001B[31mE\u001B[0m  \u001B[97m.\u001B[0m\n",
      "\u001B[97m.\u001B[0m  \u001B[97m.\u001B[0m  \u001B[97m.\u001B[0m  \u001B[97mT\u001B[0m\n",
      "---\n",
      "Move -1 0\n",
      "---\n",
      "Skip           : 0.01\n",
      "Move -1 -1     : 0.13\n",
      "Move -1 0      : 0.50\n",
      "Move -1 1      : 0.50\n",
      "Move 0 1       : 0.50\n",
      "Move 1 1       : 0.50\n",
      "Move 1 0       : 0.50\n",
      "Move 1 -1      : 0.50\n",
      "Move 0 -1      : 0.50\n",
      "Push E 0 0     : 0.50\n",
      "Push E 0 2     : 0.50\n",
      "Push E 1 0     : 0.50\n",
      "Push E 1 2     : 0.50\n",
      "Push E 2 0     : 0.50\n",
      "Push E 2 1     : 0.50\n",
      "Push E 2 2     : 0.50\n",
      "Push E 2 3     : 0.50\n",
      "Push E 3 0     : 0.50\n",
      "Push E 3 1     : 0.50\n",
      "Push E 3 2     : 0.50\n",
      "Push E 3 3     : 0.50\n",
      "Push T 1 2     : 0.50\n",
      "Push T 2 1     : 0.50\n",
      "Push T 2 2     : 0.50\n",
      "Push T 2 3     : 0.50\n",
      "Push T 3 1     : 0.50\n",
      "Push T 3 2     : 0.50\n",
      "Push T 3 3     : 0.50\n",
      "MW 1 0         : 0.50\n",
      "MW 1 2         : 0.50\n",
      "MW 2 0         : 0.50\n",
      "MW 2 1         : 0.50\n",
      "MW 2 2         : 0.50\n",
      "MW 2 3         : 0.50\n",
      "MW 3 0         : 0.50\n",
      "MW 3 1         : 0.50\n",
      "MW 3 2         : 0.50\n",
      "MW 3 3         : 0.50\n"
     ]
    }
   ],
   "execution_count": 9
  },
  {
   "metadata": {},
   "cell_type": "code",
   "outputs": [],
   "execution_count": null,
   "source": "",
   "id": "37f47c16427e3ab9"
  }
 ],
 "metadata": {
  "kernelspec": {
   "display_name": "Python 3",
   "language": "python",
   "name": "python3"
  },
  "language_info": {
   "codemirror_mode": {
    "name": "ipython",
    "version": 2
   },
   "file_extension": ".py",
   "mimetype": "text/x-python",
   "name": "python",
   "nbconvert_exporter": "python",
   "pygments_lexer": "ipython2",
   "version": "2.7.6"
  }
 },
 "nbformat": 4,
 "nbformat_minor": 5
}
