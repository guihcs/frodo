{
 "cells": [
  {
   "cell_type": "code",
   "id": "initial_id",
   "metadata": {
    "collapsed": true,
    "ExecuteTime": {
     "end_time": "2025-02-27T15:53:10.931391Z",
     "start_time": "2025-02-27T15:53:10.928033Z"
    }
   },
   "source": [
    "import copy\n",
    "\n",
    "from board3 import Board3, sqr_distance\n",
    "from controller3 import ActionController, MW_CELLS\n",
    "import time\n",
    "from heapq import heappush, heappop\n",
    "from tqdm.auto import tqdm\n",
    "import random\n",
    "import torch\n",
    "import torch.nn as nn\n",
    "import torch.optim as optim\n",
    "from torch.utils.data import DataLoader, TensorDataset\n",
    "import matplotlib.pyplot as plt\n",
    "import concurrent.futures\n",
    "import math\n",
    "from collections import Counter, deque\n",
    "from mcts import search\n",
    "from nnl import to_emb, emb_mem\n",
    "import pickle\n",
    "from torch.distributions.categorical import Categorical\n",
    "\n",
    "import copy\n"
   ],
   "outputs": [],
   "execution_count": 64
  },
  {
   "metadata": {
    "ExecuteTime": {
     "end_time": "2025-02-27T22:47:22.609478Z",
     "start_time": "2025-02-27T22:45:46.901247Z"
    }
   },
   "cell_type": "code",
   "source": [
    "def select_greedy(policy, state):\n",
    "    if len(ActionController(state).get_available_moves()) == 0:\n",
    "        return 0\n",
    "    return max(ActionController(state).get_available_moves(), key=lambda x: policy.get((state, x), 0.5))\n",
    "\n",
    "bm = {}\n",
    "\n",
    "for e in tqdm(range(20000)):\n",
    "    eps = max(0.1, 1 - e / 20000)\n",
    "    b = Board3(walk_time=1000)\n",
    "\n",
    "    for i in range(100):\n",
    "        bc = b.copy()\n",
    "        nc = ActionController(bc)\n",
    "        if random.random() < eps:\n",
    "            a = random.choice(nc.get_available_moves())\n",
    "        else:\n",
    "            a = select_greedy(bm, bc)\n",
    "\n",
    "        nc.execute_action(a)\n",
    "        bc.step(1600)\n",
    "\n",
    "        reward = 0\n",
    "        if nc.is_win():\n",
    "            reward = 1\n",
    "        elif nc.is_lose():\n",
    "            reward = -1\n",
    "        elif nc.is_block():\n",
    "            reward = -1\n",
    "\n",
    "        end = reward != 0\n",
    "\n",
    "        if (b, a) not in bm:\n",
    "            bm[(b.copy(), a)] = 0.5\n",
    "\n",
    "        if end:\n",
    "            target = reward\n",
    "        else:\n",
    "            mv = max([bm.get((bc, q), 0.5) for q in range(ActionController.get_action_space())])\n",
    "            target = reward + 0.9 * mv\n",
    "\n",
    "        bm[(b.copy(), a)] = bm[(b, a)] + 0.2 * (target - bm[(b, a)])\n",
    "        b = bc\n",
    "\n",
    "        if end:\n",
    "            break\n",
    "\n"
   ],
   "id": "e83a06818e6429cc",
   "outputs": [
    {
     "data": {
      "text/plain": [
       "  0%|          | 0/20000 [00:00<?, ?it/s]"
      ],
      "application/vnd.jupyter.widget-view+json": {
       "version_major": 2,
       "version_minor": 0,
       "model_id": "330ec8c649e0406d864eefdd70246f9a"
      }
     },
     "metadata": {},
     "output_type": "display_data"
    }
   ],
   "execution_count": 258
  },
  {
   "metadata": {
    "ExecuteTime": {
     "end_time": "2025-02-27T22:47:23.133735Z",
     "start_time": "2025-02-27T22:47:23.131314Z"
    }
   },
   "cell_type": "code",
   "source": "print(len(bm))",
   "id": "de0f3f3e7e34d06",
   "outputs": [
    {
     "name": "stdout",
     "output_type": "stream",
     "text": [
      "658629\n"
     ]
    }
   ],
   "execution_count": 259
  },
  {
   "metadata": {
    "ExecuteTime": {
     "end_time": "2025-02-27T22:47:23.182594Z",
     "start_time": "2025-02-27T22:47:23.179098Z"
    }
   },
   "cell_type": "code",
   "source": [
    "b = Board3(walk_time=1000, walk_frodo=False)\n",
    "b.players_positions = [(2, 0), (0, 2), (3, 3)]\n",
    "\n",
    "print(b)\n",
    "\n",
    "mv = select_greedy(bm, b)\n",
    "\n",
    "print(ActionController.explain_action(mv))"
   ],
   "id": "384430f0b1eba008",
   "outputs": [
    {
     "name": "stdout",
     "output_type": "stream",
     "text": [
      "\u001B[97m.\u001B[0m  \u001B[33m%\u001B[0m  \u001B[31mE\u001B[0m  \u001B[33m%\u001B[0m\n",
      "\u001B[97m.\u001B[0m  \u001B[33m%\u001B[0m  \u001B[97m.\u001B[0m  \u001B[33m%\u001B[0m\n",
      "\u001B[32mP\u001B[0m  \u001B[97m.\u001B[0m  \u001B[97m.\u001B[0m  \u001B[97m.\u001B[0m\n",
      "\u001B[97m.\u001B[0m  \u001B[97m.\u001B[0m  \u001B[97m.\u001B[0m  \u001B[97mT\u001B[0m\n",
      "Skip\n"
     ]
    }
   ],
   "execution_count": 260
  },
  {
   "metadata": {
    "ExecuteTime": {
     "end_time": "2025-02-27T22:47:24.706949Z",
     "start_time": "2025-02-27T22:47:23.869957Z"
    }
   },
   "cell_type": "code",
   "source": [
    "\n",
    "\n",
    "def eval_policy(pol, n=100):\n",
    "\n",
    "    wins = 0\n",
    "    loses = 0\n",
    "    draws = 0\n",
    "\n",
    "    for _ in range(n):\n",
    "        b = Board3(walk_time=1000, walk_frodo=False)\n",
    "\n",
    "        for i in range(100):\n",
    "            bc = b.copy()\n",
    "            nc = ActionController(bc)\n",
    "            a = select_greedy(pol, bc)\n",
    "            nc.execute_action(a)\n",
    "            bc.step(1600)\n",
    "\n",
    "            if nc.is_win():\n",
    "                wins += 1\n",
    "                break\n",
    "            elif nc.is_lose():\n",
    "                loses += 1\n",
    "                break\n",
    "            elif nc.is_block():\n",
    "                draws += 1\n",
    "                break\n",
    "\n",
    "            b = bc\n",
    "\n",
    "        else:\n",
    "            draws += 1\n",
    "\n",
    "    return wins / n, loses / n, draws / n\n",
    "\n",
    "\n",
    "print(eval_policy(bm))\n"
   ],
   "id": "854bd239014efcd5",
   "outputs": [
    {
     "name": "stdout",
     "output_type": "stream",
     "text": [
      "(0.07, 0.0, 0.93)\n"
     ]
    }
   ],
   "execution_count": 261
  },
  {
   "metadata": {},
   "cell_type": "code",
   "outputs": [],
   "execution_count": null,
   "source": "",
   "id": "12cc2f9397a1e04a"
  }
 ],
 "metadata": {
  "kernelspec": {
   "display_name": "Python 3 (ipykernel)",
   "language": "python",
   "name": "python3"
  },
  "language_info": {
   "codemirror_mode": {
    "name": "ipython",
    "version": 2
   },
   "file_extension": ".py",
   "mimetype": "text/x-python",
   "name": "python",
   "nbconvert_exporter": "python",
   "pygments_lexer": "ipython2",
   "version": "2.7.6"
  }
 },
 "nbformat": 4,
 "nbformat_minor": 5
}
