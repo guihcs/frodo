{
 "cells": [
  {
   "metadata": {
    "ExecuteTime": {
     "end_time": "2025-04-29T23:13:43.888452Z",
     "start_time": "2025-04-29T23:13:43.886016Z"
    }
   },
   "cell_type": "code",
   "source": "",
   "id": "2f1ca2fa13f8bff",
   "outputs": [],
   "execution_count": null
  },
  {
   "metadata": {
    "ExecuteTime": {
     "end_time": "2025-04-29T23:18:01.855918Z",
     "start_time": "2025-04-29T23:18:01.852788Z"
    }
   },
   "cell_type": "code",
   "source": [
    "a = 12\n",
    "b = 5\n",
    "\n",
    "c = a ^ b\n",
    "\n",
    "print(c)\n",
    "\n",
    "print(c ^ b)"
   ],
   "id": "c27e075b07e948c4",
   "outputs": [
    {
     "name": "stdout",
     "output_type": "stream",
     "text": [
      "9\n",
      "12\n"
     ]
    }
   ],
   "execution_count": 2
  }
 ],
 "metadata": {
  "kernelspec": {
   "display_name": "Python 3",
   "language": "python",
   "name": "python3"
  },
  "language_info": {
   "codemirror_mode": {
    "name": "ipython",
    "version": 2
   },
   "file_extension": ".py",
   "mimetype": "text/x-python",
   "name": "python",
   "nbconvert_exporter": "python",
   "pygments_lexer": "ipython2",
   "version": "2.7.6"
  }
 },
 "nbformat": 4,
 "nbformat_minor": 5
}
