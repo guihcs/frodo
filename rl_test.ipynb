{
 "cells": [
  {
   "cell_type": "code",
   "id": "initial_id",
   "metadata": {
    "collapsed": true,
    "ExecuteTime": {
     "end_time": "2025-02-17T21:36:58.786821Z",
     "start_time": "2025-02-17T21:36:57.467150Z"
    }
   },
   "source": [
    "import torch\n",
    "import torch.nn as nn\n",
    "import torch.optim as optim\n",
    "from torch.distributions.categorical import Categorical\n",
    "import random\n",
    "\n",
    "from main import acc_reward"
   ],
   "outputs": [],
   "execution_count": 1
  },
  {
   "metadata": {
    "ExecuteTime": {
     "end_time": "2025-02-17T21:39:25.428731Z",
     "start_time": "2025-02-17T21:39:25.420217Z"
    }
   },
   "cell_type": "code",
   "source": [
    "class Actor(nn.Module):\n",
    "    def __init__(self):\n",
    "        super(Actor, self).__init__()\n",
    "        self.seq = nn.Sequential(\n",
    "            nn.Linear(1, 2),\n",
    "            nn.Softmax(dim=-1)\n",
    "        )\n",
    "\n",
    "    def forward(self, x):\n",
    "        return self.seq(x)\n",
    "\n",
    "actor = Actor()\n",
    "for p in actor.parameters():\n",
    "    nn.init.ones_(p)\n",
    "\n",
    "optimizer = optim.Adam(actor.parameters(), lr=1e-3)\n",
    "\n",
    "for _ in range(5):\n",
    "    optimizer.zero_grad()\n",
    "    x = torch.Tensor([1])\n",
    "    y = actor(x)\n",
    "    loss = -torch.log(y[0]) * -1\n",
    "    loss.backward()\n",
    "    optimizer.step()\n",
    "    print(actor(x))\n",
    "    break\n"
   ],
   "id": "1b977a641ca92156",
   "outputs": [
    {
     "name": "stdout",
     "output_type": "stream",
     "text": [
      "tensor([0.4990, 0.5010], grad_fn=<SoftmaxBackward0>)\n"
     ]
    }
   ],
   "execution_count": 5
  },
  {
   "metadata": {},
   "cell_type": "code",
   "outputs": [],
   "execution_count": null,
   "source": "",
   "id": "ee44bff73287e761"
  }
 ],
 "metadata": {
  "kernelspec": {
   "display_name": "Python 3",
   "language": "python",
   "name": "python3"
  },
  "language_info": {
   "codemirror_mode": {
    "name": "ipython",
    "version": 2
   },
   "file_extension": ".py",
   "mimetype": "text/x-python",
   "name": "python",
   "nbconvert_exporter": "python",
   "pygments_lexer": "ipython2",
   "version": "2.7.6"
  }
 },
 "nbformat": 4,
 "nbformat_minor": 5
}
